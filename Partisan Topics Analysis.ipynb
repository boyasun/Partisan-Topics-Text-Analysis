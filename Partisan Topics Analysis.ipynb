{
 "cells": [
  {
   "cell_type": "markdown",
   "metadata": {},
   "source": [
    "#### Partisan Topics Text Analysis"
   ]
  },
  {
   "cell_type": "markdown",
   "metadata": {},
   "source": [
    "This data originally appeared in Gentzkow and Shapiro (GS; 2010) and considers text of the 2005 Congressional Record, containing all speeches in that year for members of the United States House and Senate. In particular, GS record the number times each of 529 legislators used terms in a list of 1000 phrases. It also includes the ideology of each speaker –  Party: (Republican, Democrat, or Independent)  "
   ]
  },
  {
   "cell_type": "markdown",
   "metadata": {},
   "source": [
    "The objective of this project is to \n",
    "- Implement K-means methods and topic models to cluster text and interpret topics\n",
    "- Built and compared multiple topic regression models to predict party membership from text clusters"
   ]
  },
  {
   "cell_type": "code",
   "execution_count": 1,
   "metadata": {},
   "outputs": [
    {
     "name": "stderr",
     "output_type": "stream",
     "text": [
      "Warning message:\n",
      "\"package 'glmnet' was built under R version 3.6.2\"Loading required package: Matrix\n",
      "Warning message:\n",
      "\"package 'Matrix' was built under R version 3.6.2\"Loaded glmnet 3.0-2\n",
      "\n",
      "Warning message:\n",
      "\"package 'textir' was built under R version 3.6.2\"Loading required package: distrom\n",
      "Warning message:\n",
      "\"package 'distrom' was built under R version 3.6.2\"Loading required package: gamlr\n",
      "Warning message:\n",
      "\"package 'gamlr' was built under R version 3.6.2\"Loading required package: parallel\n",
      "Warning message:\n",
      "\"package 'maptpx' was built under R version 3.6.2\"Loading required package: slam\n",
      "Warning message:\n",
      "\"package 'slam' was built under R version 3.6.2\"\n",
      "Attaching package: 'dplyr'\n",
      "\n",
      "The following object is masked from 'package:distrom':\n",
      "\n",
      "    collapse\n",
      "\n",
      "The following objects are masked from 'package:stats':\n",
      "\n",
      "    filter, lag\n",
      "\n",
      "The following objects are masked from 'package:base':\n",
      "\n",
      "    intersect, setdiff, setequal, union\n",
      "\n",
      "\n",
      "Attaching package: 'tidyr'\n",
      "\n",
      "The following objects are masked from 'package:Matrix':\n",
      "\n",
      "    expand, pack, unpack\n",
      "\n",
      "Warning message:\n",
      "\"package 'wordcloud' was built under R version 3.6.2\"Loading required package: RColorBrewer\n",
      "Warning message:\n",
      "\"package 'rddtools' was built under R version 3.6.2\"Loading required package: AER\n",
      "Loading required package: car\n",
      "Loading required package: carData\n",
      "\n",
      "Attaching package: 'car'\n",
      "\n",
      "The following object is masked from 'package:dplyr':\n",
      "\n",
      "    recode\n",
      "\n",
      "The following object is masked from 'package:maptpx':\n",
      "\n",
      "    logit\n",
      "\n",
      "Loading required package: lmtest\n",
      "Loading required package: zoo\n",
      "\n",
      "Attaching package: 'zoo'\n",
      "\n",
      "The following objects are masked from 'package:base':\n",
      "\n",
      "    as.Date, as.Date.numeric\n",
      "\n",
      "Loading required package: sandwich\n",
      "Loading required package: survival\n",
      "Loading required package: np\n",
      "Warning message:\n",
      "\"package 'np' was built under R version 3.6.2\"Nonparametric Kernel Methods for Mixed Datatypes (version 0.60-9)\n",
      "[vignette(\"np_faq\",package=\"np\") provides answers to frequently asked questions]\n",
      "[vignette(\"np\",package=\"np\") an overview]\n",
      "[vignette(\"entropy_np\",package=\"np\") an overview of entropy-based methods]\n"
     ]
    }
   ],
   "source": [
    "library(glmnet)\n",
    "library(Matrix)\n",
    "library(textir)\n",
    "library(maptpx)\n",
    "library(dplyr)\n",
    "library(tidyr)\n",
    "library(wordcloud)\n",
    "library(rddtools)"
   ]
  },
  {
   "cell_type": "code",
   "execution_count": 2,
   "metadata": {},
   "outputs": [],
   "source": [
    "load(\"C:/Users/boyas/Documents/UCDavisMSBA/Courses/Winter/ML/hw5/congress.RData\")"
   ]
  },
  {
   "cell_type": "markdown",
   "metadata": {},
   "source": [
    "#### Part 1 K-means\n",
    "- Fit K-means to cluster the speech text of the members, comprising of the 1000 phrases (Try K in 5,10,15,20,25)\n",
    "- Use AICc and elbow curve method to identify the most optimal value of K"
   ]
  },
  {
   "cell_type": "code",
   "execution_count": 3,
   "metadata": {},
   "outputs": [],
   "source": [
    "fs <- scale(as.matrix(congress109Counts/rowSums(congress109Counts)))\n",
    "kmfs5 <- kmeans(fs,5)        \n",
    "kmfs10 <- kmeans(fs,10)  \n",
    "kmfs15 <- kmeans(fs,15)  \n",
    "kmfs20 <- kmeans(fs,20)\n",
    "kmfs25 <- kmeans(fs,25)\n",
    "kcluster <- list(kmeans(fs,1),kmeans(fs,2),kmeans(fs,3),kmeans(fs,4),\n",
    "                kmfs5, kmfs10, kmfs15, kmfs20, kmfs25)"
   ]
  },
  {
   "cell_type": "code",
   "execution_count": 6,
   "metadata": {},
   "outputs": [],
   "source": [
    "# BIC\n",
    "#kmeansBIC = function(fit){\n",
    "#  m = ncol(fit$centers)\n",
    "#  n = length(fit$cluster)\n",
    "#  k = nrow(fit$centers)\n",
    "#  D = fit$tot.withinss\n",
    "#  return (D + log(n)*m*k)\n",
    "#}\n",
    "##(D + log(n)*df)\n",
    "##df <- length(fit$centers) # K*dim\n",
    "##n <- sum(fit$size)"
   ]
  },
  {
   "cell_type": "code",
   "execution_count": 4,
   "metadata": {},
   "outputs": [
    {
     "data": {
      "image/png": "[encoded data removed]",
      "text/plain": [
       "plot without title"
      ]
     },
     "metadata": {},
     "output_type": "display_data"
    }
   ],
   "source": [
    "# AICc\n",
    "kmeansAICc = function(fit){\n",
    "  df = length(fit$cluster)\n",
    "  n <- sum(fit$size)\n",
    "  D = fit$tot.withinss\n",
    "  return (D + 2*df*n/(n-df-1))\n",
    "}\n",
    "\n",
    "aicc= sapply(kcluster, kmeansAICc)\n",
    "plot(c(1:4,5*(1:5)), aicc, \n",
    "     xlab=\"Number of clusters K\",\n",
    "     ylab=\"AICc\")\n",
    "##k==25"
   ]
  },
  {
   "cell_type": "code",
   "execution_count": 8,
   "metadata": {},
   "outputs": [
    {
     "data": {
      "image/png": "[encoded data removed]",
      "text/plain": [
       "plot without title"
      ]
     },
     "metadata": {},
     "output_type": "display_data"
    }
   ],
   "source": [
    "# Elbow curve\n",
    "set.seed(123)\n",
    "wss <- lapply(1:25, \n",
    "              function(k){kmeans(fs, k)$tot.withinss})\n",
    "plot(1:25, wss,\n",
    "     type=\"b\",\n",
    "     xlab=\"Number of clusters K\",\n",
    "     ylab=\"Total within-clusters sum of squares\")\n",
    "\n",
    "##k==25"
   ]
  },
  {
   "cell_type": "markdown",
   "metadata": {},
   "source": [
    "#### Part 2 Topic Models\n",
    "- Use topic models(latent dirichlet allocation) to cluster speech text.\n",
    "- Use Bayes factors to choose the number of topics and interpret the chosen model. (The model returns the K with lowest BIC and highest log Bayes Factor)."
   ]
  },
  {
   "cell_type": "code",
   "execution_count": 15,
   "metadata": {},
   "outputs": [
    {
     "name": "stdout",
     "output_type": "stream",
     "text": [
      "\n",
      "Estimating on a 529 document collection.\n",
      "Fit and Bayes Factor Estimation for K = 5 ... 25\n",
      "log posterior increase: 6250.9, 5343.6, 4087.6, 3171.8, 2517.7, 1997.5, 1757.8, 1621.5, 1486.2, 1367.6, 1240.2, 1167.2, 1077.1, 999.2, 897.3, 776.3, 686.9, 634.6, 598.5, 552.6, 504.8, 468.4, 449.4, 439.9, 425.7, 436.1, 441, 427.9, 418.2, 419.2, 395.4, done. (L = -1028222.6)\n",
      "log BF( 5 ) = 57506.56 [  32 steps, disp = 3.65  ]\n",
      "log posterior increase: 4384.5, 2580.8, 1914.4, 1983.9, 1311.1, 1076.7, 980.4, 744.9, 567, 480.6, 404.5, 339.8, 294.9, 306.1, 327.6, 295, 272.4, 236.2, 231.8, 214.8, 188.6, 188.6, 158, 137, 131.3, 141.4, 171.3, 207.1, 200.8, 182.7, 181.8, 189.5, 190.5, 180, 161.5, 150.3, 150.1, 159.8, 169.4, 177.1, 183.3, 190.2, 197.2, 205.7, 220.6, 239, 251.5, 262.4, 249, 230.1, 248.6, 267.5, 233.1, 203, 189.6, 212.5, 243.2, 266.2, 226.7, 177.8, 154.2, 143.3, 122.8, done. (L = -991521.9)\n",
      "log BF( 10 ) = 77508.5 [  64 steps, disp = 2.9  ]\n",
      "log posterior increase: 3328.5, 2119.1, 1376.8, 926.6, 745.7, 578.8, 492.1, 419.5, 341.6, 288.8, 266.8, 266.7, 219.3, 166.7, 146, 127.3, 105.1, 93.4, 84.6, 76.2, 199.3, 80.1, 97.6, 57.6, 64.5, 73.3, 52.1, 65.1, 61.4, 44.6, 52.8, 58, 41.1, 43.6, 44.1, 33.7, 41, 49.9, 45.7, 47.9, 57, 50.1, 47.9, 104.2, 63.3, 66.8, 114.5, 77.2, 194.1, 131.7, 126.2, 144, 148.9, 126.1, 95.4, 92.4, 176, 226.4, 161.4, 145.4, 92.7, 68.7, done. (L = -972031.5)\n",
      "log BF( 15 ) = 76830.85 [  63 steps, disp = 2.48  ]\n",
      "log posterior increase: 1986.5, 1132.8, 725.2, 557.5, 448.3, 377.4, 313.5, 267.2, 257.8, 282.1, 293.7, 287.7, 277.7, 219.2, 205.9, 215, 197.1, 157.7, 138.3, 127, 120.2, 112.6, 101.6, 90.9, 83.5, 77.9, 75.1, 74.1, 72.3, 71.1, 69.7, 80.4, 101.4, 56.4, 50.3, 77.2, 97.2, 75.4, 125.9, 60.7, 70, 143.2, 79.8, 83.3, 169.3, 76.9, 67.7, 174.9, 65.7, 56.7, 55.7, 44.4, 43.5, 45, 48, 53, 57.8, 56.5, 113.2, 47.6, 35.7, done. (L = -957860.8)\n",
      "log BF( 20 ) = 68467.05 [  62 steps, disp = 2.23  ]\n"
     ]
    }
   ],
   "source": [
    "x <- as.simple_triplet_matrix(congress109Counts)\n",
    "tpcs <- topics(x, K=5*(1:5), verb=10)  # it chooses 10 topics "
   ]
  },
  {
   "cell_type": "code",
   "execution_count": 16,
   "metadata": {},
   "outputs": [
    {
     "data": {
      "text/html": [
       "<table>\n",
       "<thead><tr><th></th><th scope=col>1</th><th scope=col>2</th><th scope=col>3</th><th scope=col>4</th><th scope=col>5</th><th scope=col>6</th><th scope=col>7</th><th scope=col>8</th><th scope=col>9</th><th scope=col>10</th></tr></thead>\n",
       "<tbody>\n",
       "\t<tr><th scope=row>gifted.talented.student</th><td>6.106580e-09</td><td>2.807175e-09</td><td>8.732176e-09</td><td>7.673126e-09</td><td>6.207497e-04</td><td>6.548186e-09</td><td>2.150572e-08</td><td>5.962403e-09</td><td>9.982102e-09</td><td>1.457420e-08</td></tr>\n",
       "\t<tr><th scope=row>national.heritage.corridor</th><td>2.469811e-05</td><td>2.816632e-09</td><td>1.358435e-08</td><td>7.124072e-09</td><td>6.763767e-09</td><td>6.690550e-04</td><td>4.208087e-09</td><td>5.807757e-09</td><td>2.098875e-08</td><td>1.147766e-08</td></tr>\n",
       "\t<tr><th scope=row>national.homeownership.month</th><td>6.111090e-05</td><td>2.815981e-09</td><td>7.789241e-07</td><td>1.189053e-08</td><td>5.637561e-04</td><td>8.839347e-09</td><td>5.132473e-09</td><td>5.842364e-09</td><td>7.791894e-09</td><td>1.332548e-08</td></tr>\n",
       "\t<tr><th scope=row>near.retirement.age</th><td>6.104929e-09</td><td>2.809295e-09</td><td>9.336011e-09</td><td>6.565172e-09</td><td>6.207766e-04</td><td>6.317829e-09</td><td>4.188501e-09</td><td>5.763409e-09</td><td>7.472261e-09</td><td>1.318285e-08</td></tr>\n",
       "\t<tr><th scope=row>personal.injury.lawyer</th><td>6.407064e-09</td><td>2.818895e-09</td><td>3.588703e-04</td><td>8.589249e-09</td><td>1.621754e-04</td><td>6.373082e-09</td><td>1.671154e-04</td><td>5.910372e-09</td><td>8.171248e-09</td><td>3.062252e-08</td></tr>\n",
       "\t<tr><th scope=row>regional.training.cent</th><td>6.213510e-09</td><td>2.817956e-09</td><td>1.135626e-08</td><td>9.789318e-09</td><td>5.648596e-09</td><td>6.316186e-09</td><td>4.482719e-09</td><td>5.762950e-09</td><td>7.665406e-09</td><td>1.200992e-03</td></tr>\n",
       "\t<tr><th scope=row>amnesty.illegal.alien</th><td>6.462072e-09</td><td>2.808122e-09</td><td>1.043081e-03</td><td>8.883476e-09</td><td>6.155901e-09</td><td>7.826542e-09</td><td>3.613237e-08</td><td>6.569559e-09</td><td>7.673465e-09</td><td>1.096336e-08</td></tr>\n",
       "\t<tr><th scope=row>arm.embargo.china</th><td>7.204933e-09</td><td>2.811310e-09</td><td>1.438524e-05</td><td>2.030847e-08</td><td>9.127400e-09</td><td>7.472811e-04</td><td>2.249177e-08</td><td>6.567333e-09</td><td>8.313699e-09</td><td>1.107165e-08</td></tr>\n",
       "\t<tr><th scope=row>flag.protection.amendment</th><td>6.714298e-09</td><td>3.038355e-09</td><td>9.563505e-04</td><td>6.550868e-05</td><td>7.321315e-09</td><td>6.703069e-09</td><td>4.879066e-09</td><td>6.190568e-09</td><td>7.642915e-09</td><td>1.797244e-08</td></tr>\n",
       "\t<tr><th scope=row>low.cost.reliable</th><td>6.930607e-09</td><td>2.811063e-09</td><td>9.283667e-09</td><td>7.843182e-09</td><td>7.916545e-09</td><td>2.068786e-05</td><td>7.771687e-09</td><td>6.227304e-09</td><td>7.517865e-09</td><td>1.274406e-03</td></tr>\n",
       "\t<tr><th scope=row>assistant.secretary.commerce</th><td>6.161912e-09</td><td>2.913145e-09</td><td>3.140081e-08</td><td>4.370295e-08</td><td>3.374246e-04</td><td>2.126886e-04</td><td>1.526575e-04</td><td>7.052376e-09</td><td>8.545884e-09</td><td>1.465870e-08</td></tr>\n",
       "\t<tr><th scope=row>human.right.body</th><td>6.665296e-09</td><td>2.812123e-09</td><td>1.215490e-08</td><td>5.977476e-04</td><td>6.503765e-09</td><td>6.631820e-09</td><td>4.273218e-09</td><td>5.783624e-09</td><td>7.565576e-09</td><td>4.245899e-04</td></tr>\n",
       "\t<tr><th scope=row>indian.art.craft</th><td>6.682354e-09</td><td>2.862145e-09</td><td>1.403114e-05</td><td>8.210221e-04</td><td>6.893892e-06</td><td>1.253957e-05</td><td>1.562210e-07</td><td>6.882550e-09</td><td>9.208494e-09</td><td>1.095613e-08</td></tr>\n",
       "\t<tr><th scope=row>nation.oil.food</th><td>7.218910e-09</td><td>2.813587e-09</td><td>1.714565e-08</td><td>8.039563e-04</td><td>4.204675e-05</td><td>8.903885e-09</td><td>2.292051e-08</td><td>5.776981e-09</td><td>7.694376e-09</td><td>2.126665e-08</td></tr>\n",
       "\t<tr><th scope=row>using.adult.stem</th><td>6.233140e-09</td><td>2.839382e-09</td><td>1.095408e-08</td><td>8.389867e-09</td><td>7.637445e-09</td><td>6.438742e-09</td><td>5.352063e-09</td><td>5.820387e-09</td><td>8.992327e-09</td><td>1.419349e-03</td></tr>\n",
       "\t<tr><th scope=row>valid.driver.license</th><td>7.794345e-09</td><td>2.849472e-09</td><td>8.380959e-04</td><td>8.205808e-09</td><td>8.033650e-09</td><td>7.046951e-09</td><td>4.698695e-09</td><td>5.814640e-09</td><td>9.001854e-09</td><td>3.667270e-04</td></tr>\n",
       "\t<tr><th scope=row>weapon.grade.plutonium</th><td>6.132749e-09</td><td>2.818881e-09</td><td>9.117948e-09</td><td>2.779315e-04</td><td>1.418338e-08</td><td>4.900006e-04</td><td>1.259782e-08</td><td>6.356560e-09</td><td>9.322752e-09</td><td>1.095991e-04</td></tr>\n",
       "\t<tr><th scope=row>marriage.protection.amendment</th><td>6.324463e-09</td><td>2.828865e-09</td><td>2.533148e-08</td><td>2.234908e-08</td><td>5.923705e-04</td><td>2.623175e-08</td><td>1.058799e-04</td><td>6.793571e-09</td><td>1.006982e-08</td><td>1.058765e-04</td></tr>\n",
       "\t<tr><th scope=row>people.middle.east</th><td>8.332801e-09</td><td>2.996373e-09</td><td>2.701245e-04</td><td>1.280712e-04</td><td>1.789308e-04</td><td>6.849634e-09</td><td>1.712376e-04</td><td>5.948899e-09</td><td>7.964296e-09</td><td>1.827254e-04</td></tr>\n",
       "\t<tr><th scope=row>produce.stem.cel</th><td>6.959429e-09</td><td>2.921027e-09</td><td>1.071229e-08</td><td>6.905155e-09</td><td>6.906569e-09</td><td>6.533568e-09</td><td>4.183748e-09</td><td>5.883142e-09</td><td>1.066589e-08</td><td>1.528532e-03</td></tr>\n",
       "\t<tr><th scope=row>united.nation.oil</th><td>7.121758e-09</td><td>2.816429e-09</td><td>1.680798e-08</td><td>8.632152e-04</td><td>4.751274e-05</td><td>8.878267e-09</td><td>1.835430e-08</td><td>5.776607e-09</td><td>7.708988e-09</td><td>2.080362e-08</td></tr>\n",
       "\t<tr><th scope=row>winning.war.iraq</th><td>6.107825e-09</td><td>3.027545e-09</td><td>1.431187e-08</td><td>9.136095e-04</td><td>4.109671e-06</td><td>6.320015e-09</td><td>4.480383e-09</td><td>5.764438e-09</td><td>7.543833e-09</td><td>1.699125e-07</td></tr>\n",
       "\t<tr><th scope=row>ayman.al.zawahiri</th><td>6.740074e-09</td><td>5.423743e-09</td><td>1.254927e-08</td><td>8.733830e-04</td><td>7.643695e-09</td><td>1.472945e-08</td><td>7.052026e-05</td><td>8.166174e-09</td><td>1.007586e-08</td><td>1.273702e-08</td></tr>\n",
       "\t<tr><th scope=row>commonly.prescribed.drug</th><td>6.192204e-09</td><td>5.955702e-09</td><td>1.369094e-05</td><td>1.344428e-08</td><td>6.775706e-09</td><td>9.372582e-04</td><td>4.207969e-09</td><td>5.780394e-09</td><td>8.129790e-09</td><td>1.210864e-08</td></tr>\n",
       "\t<tr><th scope=row>county.north.carolina</th><td>6.125420e-05</td><td>2.960374e-09</td><td>6.776385e-04</td><td>1.825934e-08</td><td>7.119491e-08</td><td>7.599326e-09</td><td>4.521979e-09</td><td>5.795389e-09</td><td>7.573690e-09</td><td>6.768966e-04</td></tr>\n",
       "\t<tr><th scope=row>feder.air.marshal</th><td>6.467059e-09</td><td>2.819765e-09</td><td>1.211962e-03</td><td>1.253711e-05</td><td>7.276090e-09</td><td>6.813109e-09</td><td>3.624343e-05</td><td>5.933623e-09</td><td>7.929982e-09</td><td>1.882189e-08</td></tr>\n",
       "\t<tr><th scope=row>financial.accounting.standard</th><td>6.417759e-09</td><td>2.833379e-09</td><td>8.157394e-08</td><td>2.071215e-08</td><td>8.265775e-09</td><td>6.323793e-09</td><td>4.185488e-09</td><td>5.868777e-09</td><td>1.119714e-03</td><td>1.113392e-08</td></tr>\n",
       "\t<tr><th scope=row>ga.price.reduction</th><td>6.403785e-09</td><td>2.807072e-09</td><td>1.028383e-08</td><td>6.792586e-09</td><td>5.933109e-09</td><td>7.190560e-09</td><td>2.571686e-08</td><td>5.924859e-09</td><td>7.585386e-09</td><td>1.637665e-03</td></tr>\n",
       "\t<tr><th scope=row>sanctity.human.life</th><td>6.666284e-09</td><td>3.189474e-09</td><td>5.560460e-07</td><td>6.257211e-04</td><td>9.873459e-09</td><td>6.944659e-09</td><td>9.397890e-05</td><td>6.473352e-09</td><td>9.455083e-09</td><td>3.502390e-04</td></tr>\n",
       "\t<tr><th scope=row>united.airline.employe</th><td>7.933519e-09</td><td>4.209660e-04</td><td>9.035910e-09</td><td>6.821420e-09</td><td>5.834069e-09</td><td>6.590807e-09</td><td>4.674008e-09</td><td>6.562528e-09</td><td>1.033518e-08</td><td>1.328946e-08</td></tr>\n",
       "\t<tr><th scope=row>...</th><td>...</td><td>...</td><td>...</td><td>...</td><td>...</td><td>...</td><td>...</td><td>...</td><td>...</td><td>...</td></tr>\n",
       "\t<tr><th scope=row>nuclear.weapon</th><td>3.287822e-08</td><td>5.862558e-04</td><td>1.944790e-08</td><td>1.713941e-02</td><td>2.526388e-08</td><td>4.305962e-08</td><td>1.970838e-05</td><td>1.983260e-02</td><td>1.292501e-02</td><td>3.161199e-03</td></tr>\n",
       "\t<tr><th scope=row>war.terror</th><td>1.511162e-04</td><td>7.578580e-07</td><td>9.857716e-04</td><td>3.635154e-02</td><td>4.760582e-03</td><td>4.706979e-08</td><td>4.820306e-03</td><td>2.526162e-03</td><td>1.665658e-03</td><td>7.881874e-04</td></tr>\n",
       "\t<tr><th scope=row>chief.justice</th><td>1.744230e-08</td><td>8.949875e-09</td><td>8.132208e-03</td><td>2.226083e-04</td><td>9.481648e-07</td><td>8.281870e-04</td><td>3.063573e-02</td><td>1.572434e-08</td><td>2.331435e-07</td><td>5.370631e-08</td></tr>\n",
       "\t<tr><th scope=row>judicial.nomine</th><td>1.212135e-08</td><td>3.844849e-05</td><td>1.808827e-08</td><td>3.023997e-07</td><td>6.932372e-08</td><td>3.761644e-08</td><td>3.606240e-02</td><td>2.388590e-07</td><td>1.389753e-04</td><td>1.192156e-06</td></tr>\n",
       "\t<tr><th scope=row>washington.dc</th><td>3.374874e-03</td><td>4.982609e-03</td><td>6.914168e-03</td><td>6.989895e-03</td><td>6.279227e-03</td><td>1.474788e-02</td><td>4.088196e-03</td><td>1.533255e-04</td><td>6.228105e-04</td><td>7.036323e-04</td></tr>\n",
       "\t<tr><th scope=row>war.iraq</th><td>4.563402e-03</td><td>1.373473e-02</td><td>2.835885e-07</td><td>2.052721e-02</td><td>1.459933e-04</td><td>5.775141e-08</td><td>6.541420e-05</td><td>1.767616e-03</td><td>6.286351e-06</td><td>2.241414e-08</td></tr>\n",
       "\t<tr><th scope=row>central.american</th><td>1.572051e-08</td><td>2.676000e-07</td><td>4.917433e-06</td><td>1.543880e-05</td><td>2.033049e-08</td><td>2.133066e-04</td><td>1.934949e-03</td><td>8.934912e-07</td><td>6.472487e-02</td><td>3.335849e-08</td></tr>\n",
       "\t<tr><th scope=row>head.start</th><td>4.033740e-02</td><td>1.753742e-03</td><td>3.269862e-08</td><td>3.471820e-08</td><td>3.669222e-04</td><td>1.782649e-04</td><td>4.219641e-08</td><td>8.888126e-03</td><td>1.000226e-05</td><td>6.627038e-03</td></tr>\n",
       "\t<tr><th scope=row>trade.deficit</th><td>3.591161e-08</td><td>6.130559e-08</td><td>1.993341e-05</td><td>2.867804e-06</td><td>2.775329e-08</td><td>3.224421e-03</td><td>1.195182e-03</td><td>1.664234e-04</td><td>6.441241e-02</td><td>2.567735e-04</td></tr>\n",
       "\t<tr><th scope=row>national.guard</th><td>2.846286e-03</td><td>5.693789e-03</td><td>2.310223e-04</td><td>2.442674e-02</td><td>1.823941e-03</td><td>2.541497e-03</td><td>5.937985e-03</td><td>5.170632e-03</td><td>1.574983e-03</td><td>2.567728e-08</td></tr>\n",
       "\t<tr><th scope=row>credit.card</th><td>2.231049e-08</td><td>5.075301e-03</td><td>3.075186e-04</td><td>7.354008e-08</td><td>1.198334e-03</td><td>1.709142e-08</td><td>7.787106e-03</td><td>3.535224e-02</td><td>2.707087e-05</td><td>2.191287e-08</td></tr>\n",
       "\t<tr><th scope=row>iraq.afghanistan</th><td>5.505669e-08</td><td>1.126456e-02</td><td>1.104762e-04</td><td>2.769150e-02</td><td>7.928274e-04</td><td>1.582460e-03</td><td>2.757930e-03</td><td>6.040245e-03</td><td>4.707780e-04</td><td>3.023771e-08</td></tr>\n",
       "\t<tr><th scope=row>minimum.wage</th><td>9.867113e-04</td><td>1.179756e-03</td><td>1.676643e-08</td><td>1.196623e-08</td><td>1.399367e-08</td><td>1.186137e-08</td><td>2.643796e-03</td><td>5.378445e-02</td><td>7.339925e-04</td><td>1.613835e-08</td></tr>\n",
       "\t<tr><th scope=row>strong.support</th><td>2.073770e-02</td><td>8.968183e-04</td><td>2.591993e-02</td><td>1.627064e-02</td><td>4.705341e-03</td><td>2.133998e-03</td><td>2.070142e-04</td><td>8.798751e-04</td><td>6.570639e-06</td><td>5.734701e-03</td></tr>\n",
       "\t<tr><th scope=row>gulf.coast</th><td>2.136451e-02</td><td>5.764092e-03</td><td>2.897435e-03</td><td>1.587384e-02</td><td>7.781763e-03</td><td>4.001958e-03</td><td>2.486532e-03</td><td>4.553310e-03</td><td>3.283562e-04</td><td>2.739479e-08</td></tr>\n",
       "\t<tr><th scope=row>billion.dollar</th><td>7.425705e-03</td><td>1.270259e-02</td><td>2.056508e-03</td><td>9.546386e-03</td><td>6.855608e-03</td><td>7.694886e-03</td><td>1.867587e-03</td><td>1.956935e-03</td><td>7.636645e-03</td><td>1.990511e-03</td></tr>\n",
       "\t<tr><th scope=row>million.american</th><td>1.273121e-02</td><td>7.842597e-03</td><td>8.348324e-03</td><td>2.077982e-03</td><td>6.387228e-03</td><td>6.216363e-03</td><td>4.910971e-03</td><td>1.360062e-02</td><td>4.933738e-03</td><td>2.935860e-03</td></tr>\n",
       "\t<tr><th scope=row>fre.trade</th><td>1.842510e-08</td><td>1.048940e-08</td><td>2.061899e-03</td><td>1.790605e-03</td><td>4.631118e-07</td><td>6.982846e-04</td><td>4.297348e-03</td><td>2.945310e-08</td><td>8.331952e-02</td><td>1.702692e-06</td></tr>\n",
       "\t<tr><th scope=row>african.american</th><td>6.311132e-02</td><td>1.905974e-06</td><td>4.926014e-07</td><td>3.629658e-04</td><td>3.398476e-06</td><td>1.772413e-03</td><td>1.081177e-02</td><td>9.361895e-08</td><td>5.474354e-04</td><td>3.983859e-08</td></tr>\n",
       "\t<tr><th scope=row>low.income</th><td>1.406667e-02</td><td>3.527559e-03</td><td>3.867532e-08</td><td>1.909632e-08</td><td>1.686206e-02</td><td>1.524457e-02</td><td>1.410529e-03</td><td>2.326439e-02</td><td>2.866164e-03</td><td>8.253039e-04</td></tr>\n",
       "\t<tr><th scope=row>prescription.drug</th><td>3.184578e-08</td><td>1.907865e-02</td><td>5.702191e-05</td><td>1.555578e-08</td><td>1.432678e-02</td><td>1.399206e-02</td><td>6.368482e-03</td><td>2.183322e-04</td><td>5.448070e-03</td><td>1.042127e-04</td></tr>\n",
       "\t<tr><th scope=row>class.action</th><td>1.203818e-08</td><td>6.056913e-09</td><td>3.577466e-02</td><td>1.371112e-08</td><td>3.892926e-03</td><td>3.505266e-08</td><td>3.934334e-02</td><td>3.593330e-04</td><td>1.063378e-08</td><td>1.780035e-08</td></tr>\n",
       "\t<tr><th scope=row>civil.right</th><td>4.609326e-02</td><td>3.835761e-04</td><td>2.448509e-03</td><td>5.408146e-08</td><td>2.163890e-08</td><td>2.015221e-03</td><td>1.635095e-02</td><td>1.278408e-02</td><td>6.540227e-04</td><td>4.729346e-08</td></tr>\n",
       "\t<tr><th scope=row>look.forward</th><td>8.162086e-03</td><td>2.557946e-03</td><td>1.223362e-02</td><td>1.473526e-02</td><td>1.198138e-02</td><td>1.665298e-02</td><td>1.703090e-02</td><td>8.202935e-03</td><td>7.911075e-05</td><td>1.400356e-03</td></tr>\n",
       "\t<tr><th scope=row>stem.cel</th><td>1.282452e-08</td><td>8.719621e-09</td><td>1.411908e-08</td><td>9.809679e-09</td><td>9.418522e-09</td><td>8.634872e-09</td><td>7.559863e-07</td><td>3.681859e-08</td><td>4.516508e-08</td><td>1.854964e-01</td></tr>\n",
       "\t<tr><th scope=row>natural.ga</th><td>1.720164e-08</td><td>8.247484e-04</td><td>6.154477e-08</td><td>1.605545e-07</td><td>3.170689e-08</td><td>4.599072e-02</td><td>7.419244e-04</td><td>1.811894e-03</td><td>5.074089e-04</td><td>1.068116e-01</td></tr>\n",
       "\t<tr><th scope=row>hurricane.katrina</th><td>2.751108e-02</td><td>1.633351e-02</td><td>1.746444e-02</td><td>1.059758e-02</td><td>1.018478e-02</td><td>1.000009e-02</td><td>3.827309e-03</td><td>8.350476e-03</td><td>3.676112e-03</td><td>1.088477e-05</td></tr>\n",
       "\t<tr><th scope=row>trade.agreement</th><td>2.669439e-08</td><td>2.823227e-04</td><td>1.253786e-04</td><td>1.107865e-04</td><td>2.839125e-08</td><td>1.417790e-03</td><td>6.235477e-03</td><td>5.827842e-07</td><td>1.600680e-01</td><td>3.088630e-08</td></tr>\n",
       "\t<tr><th scope=row>appropriation.bil</th><td>1.005185e-04</td><td>1.105010e-02</td><td>6.930070e-03</td><td>4.333898e-02</td><td>9.549849e-03</td><td>1.700082e-02</td><td>2.538670e-02</td><td>8.688182e-03</td><td>1.821706e-03</td><td>2.921838e-05</td></tr>\n",
       "\t<tr><th scope=row>american.people</th><td>1.252622e-02</td><td>7.655936e-02</td><td>2.976355e-02</td><td>5.917094e-02</td><td>3.458721e-02</td><td>4.113964e-03</td><td>3.967682e-02</td><td>1.132044e-02</td><td>1.484580e-02</td><td>6.090931e-03</td></tr>\n",
       "</tbody>\n",
       "</table>\n"
      ],
      "text/latex": [
       "\\begin{tabular}{r|llllllllll}\n",
       "  & 1 & 2 & 3 & 4 & 5 & 6 & 7 & 8 & 9 & 10\\\\\n",
       "\\hline\n",
       "\tgifted.talented.student & 6.106580e-09 & 2.807175e-09 & 8.732176e-09 & 7.673126e-09 & 6.207497e-04 & 6.548186e-09 & 2.150572e-08 & 5.962403e-09 & 9.982102e-09 & 1.457420e-08\\\\\n",
       "\tnational.heritage.corridor & 2.469811e-05 & 2.816632e-09 & 1.358435e-08 & 7.124072e-09 & 6.763767e-09 & 6.690550e-04 & 4.208087e-09 & 5.807757e-09 & 2.098875e-08 & 1.147766e-08\\\\\n",
       "\tnational.homeownership.month & 6.111090e-05 & 2.815981e-09 & 7.789241e-07 & 1.189053e-08 & 5.637561e-04 & 8.839347e-09 & 5.132473e-09 & 5.842364e-09 & 7.791894e-09 & 1.332548e-08\\\\\n",
       "\tnear.retirement.age & 6.104929e-09 & 2.809295e-09 & 9.336011e-09 & 6.565172e-09 & 6.207766e-04 & 6.317829e-09 & 4.188501e-09 & 5.763409e-09 & 7.472261e-09 & 1.318285e-08\\\\\n",
       "\tpersonal.injury.lawyer & 6.407064e-09 & 2.818895e-09 & 3.588703e-04 & 8.589249e-09 & 1.621754e-04 & 6.373082e-09 & 1.671154e-04 & 5.910372e-09 & 8.171248e-09 & 3.062252e-08\\\\\n",
       "\tregional.training.cent & 6.213510e-09 & 2.817956e-09 & 1.135626e-08 & 9.789318e-09 & 5.648596e-09 & 6.316186e-09 & 4.482719e-09 & 5.762950e-09 & 7.665406e-09 & 1.200992e-03\\\\\n",
       "\tamnesty.illegal.alien & 6.462072e-09 & 2.808122e-09 & 1.043081e-03 & 8.883476e-09 & 6.155901e-09 & 7.826542e-09 & 3.613237e-08 & 6.569559e-09 & 7.673465e-09 & 1.096336e-08\\\\\n",
       "\tarm.embargo.china & 7.204933e-09 & 2.811310e-09 & 1.438524e-05 & 2.030847e-08 & 9.127400e-09 & 7.472811e-04 & 2.249177e-08 & 6.567333e-09 & 8.313699e-09 & 1.107165e-08\\\\\n",
       "\tflag.protection.amendment & 6.714298e-09 & 3.038355e-09 & 9.563505e-04 & 6.550868e-05 & 7.321315e-09 & 6.703069e-09 & 4.879066e-09 & 6.190568e-09 & 7.642915e-09 & 1.797244e-08\\\\\n",
       "\tlow.cost.reliable & 6.930607e-09 & 2.811063e-09 & 9.283667e-09 & 7.843182e-09 & 7.916545e-09 & 2.068786e-05 & 7.771687e-09 & 6.227304e-09 & 7.517865e-09 & 1.274406e-03\\\\\n",
       "\tassistant.secretary.commerce & 6.161912e-09 & 2.913145e-09 & 3.140081e-08 & 4.370295e-08 & 3.374246e-04 & 2.126886e-04 & 1.526575e-04 & 7.052376e-09 & 8.545884e-09 & 1.465870e-08\\\\\n",
       "\thuman.right.body & 6.665296e-09 & 2.812123e-09 & 1.215490e-08 & 5.977476e-04 & 6.503765e-09 & 6.631820e-09 & 4.273218e-09 & 5.783624e-09 & 7.565576e-09 & 4.245899e-04\\\\\n",
       "\tindian.art.craft & 6.682354e-09 & 2.862145e-09 & 1.403114e-05 & 8.210221e-04 & 6.893892e-06 & 1.253957e-05 & 1.562210e-07 & 6.882550e-09 & 9.208494e-09 & 1.095613e-08\\\\\n",
       "\tnation.oil.food & 7.218910e-09 & 2.813587e-09 & 1.714565e-08 & 8.039563e-04 & 4.204675e-05 & 8.903885e-09 & 2.292051e-08 & 5.776981e-09 & 7.694376e-09 & 2.126665e-08\\\\\n",
       "\tusing.adult.stem & 6.233140e-09 & 2.839382e-09 & 1.095408e-08 & 8.389867e-09 & 7.637445e-09 & 6.438742e-09 & 5.352063e-09 & 5.820387e-09 & 8.992327e-09 & 1.419349e-03\\\\\n",
       "\tvalid.driver.license & 7.794345e-09 & 2.849472e-09 & 8.380959e-04 & 8.205808e-09 & 8.033650e-09 & 7.046951e-09 & 4.698695e-09 & 5.814640e-09 & 9.001854e-09 & 3.667270e-04\\\\\n",
       "\tweapon.grade.plutonium & 6.132749e-09 & 2.818881e-09 & 9.117948e-09 & 2.779315e-04 & 1.418338e-08 & 4.900006e-04 & 1.259782e-08 & 6.356560e-09 & 9.322752e-09 & 1.095991e-04\\\\\n",
       "\tmarriage.protection.amendment & 6.324463e-09 & 2.828865e-09 & 2.533148e-08 & 2.234908e-08 & 5.923705e-04 & 2.623175e-08 & 1.058799e-04 & 6.793571e-09 & 1.006982e-08 & 1.058765e-04\\\\\n",
       "\tpeople.middle.east & 8.332801e-09 & 2.996373e-09 & 2.701245e-04 & 1.280712e-04 & 1.789308e-04 & 6.849634e-09 & 1.712376e-04 & 5.948899e-09 & 7.964296e-09 & 1.827254e-04\\\\\n",
       "\tproduce.stem.cel & 6.959429e-09 & 2.921027e-09 & 1.071229e-08 & 6.905155e-09 & 6.906569e-09 & 6.533568e-09 & 4.183748e-09 & 5.883142e-09 & 1.066589e-08 & 1.528532e-03\\\\\n",
       "\tunited.nation.oil & 7.121758e-09 & 2.816429e-09 & 1.680798e-08 & 8.632152e-04 & 4.751274e-05 & 8.878267e-09 & 1.835430e-08 & 5.776607e-09 & 7.708988e-09 & 2.080362e-08\\\\\n",
       "\twinning.war.iraq & 6.107825e-09 & 3.027545e-09 & 1.431187e-08 & 9.136095e-04 & 4.109671e-06 & 6.320015e-09 & 4.480383e-09 & 5.764438e-09 & 7.543833e-09 & 1.699125e-07\\\\\n",
       "\tayman.al.zawahiri & 6.740074e-09 & 5.423743e-09 & 1.254927e-08 & 8.733830e-04 & 7.643695e-09 & 1.472945e-08 & 7.052026e-05 & 8.166174e-09 & 1.007586e-08 & 1.273702e-08\\\\\n",
       "\tcommonly.prescribed.drug & 6.192204e-09 & 5.955702e-09 & 1.369094e-05 & 1.344428e-08 & 6.775706e-09 & 9.372582e-04 & 4.207969e-09 & 5.780394e-09 & 8.129790e-09 & 1.210864e-08\\\\\n",
       "\tcounty.north.carolina & 6.125420e-05 & 2.960374e-09 & 6.776385e-04 & 1.825934e-08 & 7.119491e-08 & 7.599326e-09 & 4.521979e-09 & 5.795389e-09 & 7.573690e-09 & 6.768966e-04\\\\\n",
       "\tfeder.air.marshal & 6.467059e-09 & 2.819765e-09 & 1.211962e-03 & 1.253711e-05 & 7.276090e-09 & 6.813109e-09 & 3.624343e-05 & 5.933623e-09 & 7.929982e-09 & 1.882189e-08\\\\\n",
       "\tfinancial.accounting.standard & 6.417759e-09 & 2.833379e-09 & 8.157394e-08 & 2.071215e-08 & 8.265775e-09 & 6.323793e-09 & 4.185488e-09 & 5.868777e-09 & 1.119714e-03 & 1.113392e-08\\\\\n",
       "\tga.price.reduction & 6.403785e-09 & 2.807072e-09 & 1.028383e-08 & 6.792586e-09 & 5.933109e-09 & 7.190560e-09 & 2.571686e-08 & 5.924859e-09 & 7.585386e-09 & 1.637665e-03\\\\\n",
       "\tsanctity.human.life & 6.666284e-09 & 3.189474e-09 & 5.560460e-07 & 6.257211e-04 & 9.873459e-09 & 6.944659e-09 & 9.397890e-05 & 6.473352e-09 & 9.455083e-09 & 3.502390e-04\\\\\n",
       "\tunited.airline.employe & 7.933519e-09 & 4.209660e-04 & 9.035910e-09 & 6.821420e-09 & 5.834069e-09 & 6.590807e-09 & 4.674008e-09 & 6.562528e-09 & 1.033518e-08 & 1.328946e-08\\\\\n",
       "\t... & ... & ... & ... & ... & ... & ... & ... & ... & ... & ...\\\\\n",
       "\tnuclear.weapon & 3.287822e-08 & 5.862558e-04 & 1.944790e-08 & 1.713941e-02 & 2.526388e-08 & 4.305962e-08 & 1.970838e-05 & 1.983260e-02 & 1.292501e-02 & 3.161199e-03\\\\\n",
       "\twar.terror & 1.511162e-04 & 7.578580e-07 & 9.857716e-04 & 3.635154e-02 & 4.760582e-03 & 4.706979e-08 & 4.820306e-03 & 2.526162e-03 & 1.665658e-03 & 7.881874e-04\\\\\n",
       "\tchief.justice & 1.744230e-08 & 8.949875e-09 & 8.132208e-03 & 2.226083e-04 & 9.481648e-07 & 8.281870e-04 & 3.063573e-02 & 1.572434e-08 & 2.331435e-07 & 5.370631e-08\\\\\n",
       "\tjudicial.nomine & 1.212135e-08 & 3.844849e-05 & 1.808827e-08 & 3.023997e-07 & 6.932372e-08 & 3.761644e-08 & 3.606240e-02 & 2.388590e-07 & 1.389753e-04 & 1.192156e-06\\\\\n",
       "\twashington.dc & 3.374874e-03 & 4.982609e-03 & 6.914168e-03 & 6.989895e-03 & 6.279227e-03 & 1.474788e-02 & 4.088196e-03 & 1.533255e-04 & 6.228105e-04 & 7.036323e-04\\\\\n",
       "\twar.iraq & 4.563402e-03 & 1.373473e-02 & 2.835885e-07 & 2.052721e-02 & 1.459933e-04 & 5.775141e-08 & 6.541420e-05 & 1.767616e-03 & 6.286351e-06 & 2.241414e-08\\\\\n",
       "\tcentral.american & 1.572051e-08 & 2.676000e-07 & 4.917433e-06 & 1.543880e-05 & 2.033049e-08 & 2.133066e-04 & 1.934949e-03 & 8.934912e-07 & 6.472487e-02 & 3.335849e-08\\\\\n",
       "\thead.start & 4.033740e-02 & 1.753742e-03 & 3.269862e-08 & 3.471820e-08 & 3.669222e-04 & 1.782649e-04 & 4.219641e-08 & 8.888126e-03 & 1.000226e-05 & 6.627038e-03\\\\\n",
       "\ttrade.deficit & 3.591161e-08 & 6.130559e-08 & 1.993341e-05 & 2.867804e-06 & 2.775329e-08 & 3.224421e-03 & 1.195182e-03 & 1.664234e-04 & 6.441241e-02 & 2.567735e-04\\\\\n",
       "\tnational.guard & 2.846286e-03 & 5.693789e-03 & 2.310223e-04 & 2.442674e-02 & 1.823941e-03 & 2.541497e-03 & 5.937985e-03 & 5.170632e-03 & 1.574983e-03 & 2.567728e-08\\\\\n",
       "\tcredit.card & 2.231049e-08 & 5.075301e-03 & 3.075186e-04 & 7.354008e-08 & 1.198334e-03 & 1.709142e-08 & 7.787106e-03 & 3.535224e-02 & 2.707087e-05 & 2.191287e-08\\\\\n",
       "\tiraq.afghanistan & 5.505669e-08 & 1.126456e-02 & 1.104762e-04 & 2.769150e-02 & 7.928274e-04 & 1.582460e-03 & 2.757930e-03 & 6.040245e-03 & 4.707780e-04 & 3.023771e-08\\\\\n",
       "\tminimum.wage & 9.867113e-04 & 1.179756e-03 & 1.676643e-08 & 1.196623e-08 & 1.399367e-08 & 1.186137e-08 & 2.643796e-03 & 5.378445e-02 & 7.339925e-04 & 1.613835e-08\\\\\n",
       "\tstrong.support & 2.073770e-02 & 8.968183e-04 & 2.591993e-02 & 1.627064e-02 & 4.705341e-03 & 2.133998e-03 & 2.070142e-04 & 8.798751e-04 & 6.570639e-06 & 5.734701e-03\\\\\n",
       "\tgulf.coast & 2.136451e-02 & 5.764092e-03 & 2.897435e-03 & 1.587384e-02 & 7.781763e-03 & 4.001958e-03 & 2.486532e-03 & 4.553310e-03 & 3.283562e-04 & 2.739479e-08\\\\\n",
       "\tbillion.dollar & 7.425705e-03 & 1.270259e-02 & 2.056508e-03 & 9.546386e-03 & 6.855608e-03 & 7.694886e-03 & 1.867587e-03 & 1.956935e-03 & 7.636645e-03 & 1.990511e-03\\\\\n",
       "\tmillion.american & 1.273121e-02 & 7.842597e-03 & 8.348324e-03 & 2.077982e-03 & 6.387228e-03 & 6.216363e-03 & 4.910971e-03 & 1.360062e-02 & 4.933738e-03 & 2.935860e-03\\\\\n",
       "\tfre.trade & 1.842510e-08 & 1.048940e-08 & 2.061899e-03 & 1.790605e-03 & 4.631118e-07 & 6.982846e-04 & 4.297348e-03 & 2.945310e-08 & 8.331952e-02 & 1.702692e-06\\\\\n",
       "\tafrican.american & 6.311132e-02 & 1.905974e-06 & 4.926014e-07 & 3.629658e-04 & 3.398476e-06 & 1.772413e-03 & 1.081177e-02 & 9.361895e-08 & 5.474354e-04 & 3.983859e-08\\\\\n",
       "\tlow.income & 1.406667e-02 & 3.527559e-03 & 3.867532e-08 & 1.909632e-08 & 1.686206e-02 & 1.524457e-02 & 1.410529e-03 & 2.326439e-02 & 2.866164e-03 & 8.253039e-04\\\\\n",
       "\tprescription.drug & 3.184578e-08 & 1.907865e-02 & 5.702191e-05 & 1.555578e-08 & 1.432678e-02 & 1.399206e-02 & 6.368482e-03 & 2.183322e-04 & 5.448070e-03 & 1.042127e-04\\\\\n",
       "\tclass.action & 1.203818e-08 & 6.056913e-09 & 3.577466e-02 & 1.371112e-08 & 3.892926e-03 & 3.505266e-08 & 3.934334e-02 & 3.593330e-04 & 1.063378e-08 & 1.780035e-08\\\\\n",
       "\tcivil.right & 4.609326e-02 & 3.835761e-04 & 2.448509e-03 & 5.408146e-08 & 2.163890e-08 & 2.015221e-03 & 1.635095e-02 & 1.278408e-02 & 6.540227e-04 & 4.729346e-08\\\\\n",
       "\tlook.forward & 8.162086e-03 & 2.557946e-03 & 1.223362e-02 & 1.473526e-02 & 1.198138e-02 & 1.665298e-02 & 1.703090e-02 & 8.202935e-03 & 7.911075e-05 & 1.400356e-03\\\\\n",
       "\tstem.cel & 1.282452e-08 & 8.719621e-09 & 1.411908e-08 & 9.809679e-09 & 9.418522e-09 & 8.634872e-09 & 7.559863e-07 & 3.681859e-08 & 4.516508e-08 & 1.854964e-01\\\\\n",
       "\tnatural.ga & 1.720164e-08 & 8.247484e-04 & 6.154477e-08 & 1.605545e-07 & 3.170689e-08 & 4.599072e-02 & 7.419244e-04 & 1.811894e-03 & 5.074089e-04 & 1.068116e-01\\\\\n",
       "\thurricane.katrina & 2.751108e-02 & 1.633351e-02 & 1.746444e-02 & 1.059758e-02 & 1.018478e-02 & 1.000009e-02 & 3.827309e-03 & 8.350476e-03 & 3.676112e-03 & 1.088477e-05\\\\\n",
       "\ttrade.agreement & 2.669439e-08 & 2.823227e-04 & 1.253786e-04 & 1.107865e-04 & 2.839125e-08 & 1.417790e-03 & 6.235477e-03 & 5.827842e-07 & 1.600680e-01 & 3.088630e-08\\\\\n",
       "\tappropriation.bil & 1.005185e-04 & 1.105010e-02 & 6.930070e-03 & 4.333898e-02 & 9.549849e-03 & 1.700082e-02 & 2.538670e-02 & 8.688182e-03 & 1.821706e-03 & 2.921838e-05\\\\\n",
       "\tamerican.people & 1.252622e-02 & 7.655936e-02 & 2.976355e-02 & 5.917094e-02 & 3.458721e-02 & 4.113964e-03 & 3.967682e-02 & 1.132044e-02 & 1.484580e-02 & 6.090931e-03\\\\\n",
       "\\end{tabular}\n"
      ],
      "text/markdown": [
       "\n",
       "| <!--/--> | 1 | 2 | 3 | 4 | 5 | 6 | 7 | 8 | 9 | 10 |\n",
       "|---|---|---|---|---|---|---|---|---|---|---|\n",
       "| gifted.talented.student | 6.106580e-09 | 2.807175e-09 | 8.732176e-09 | 7.673126e-09 | 6.207497e-04 | 6.548186e-09 | 2.150572e-08 | 5.962403e-09 | 9.982102e-09 | 1.457420e-08 |\n",
       "| national.heritage.corridor | 2.469811e-05 | 2.816632e-09 | 1.358435e-08 | 7.124072e-09 | 6.763767e-09 | 6.690550e-04 | 4.208087e-09 | 5.807757e-09 | 2.098875e-08 | 1.147766e-08 |\n",
       "| national.homeownership.month | 6.111090e-05 | 2.815981e-09 | 7.789241e-07 | 1.189053e-08 | 5.637561e-04 | 8.839347e-09 | 5.132473e-09 | 5.842364e-09 | 7.791894e-09 | 1.332548e-08 |\n",
       "| near.retirement.age | 6.104929e-09 | 2.809295e-09 | 9.336011e-09 | 6.565172e-09 | 6.207766e-04 | 6.317829e-09 | 4.188501e-09 | 5.763409e-09 | 7.472261e-09 | 1.318285e-08 |\n",
       "| personal.injury.lawyer | 6.407064e-09 | 2.818895e-09 | 3.588703e-04 | 8.589249e-09 | 1.621754e-04 | 6.373082e-09 | 1.671154e-04 | 5.910372e-09 | 8.171248e-09 | 3.062252e-08 |\n",
       "| regional.training.cent | 6.213510e-09 | 2.817956e-09 | 1.135626e-08 | 9.789318e-09 | 5.648596e-09 | 6.316186e-09 | 4.482719e-09 | 5.762950e-09 | 7.665406e-09 | 1.200992e-03 |\n",
       "| amnesty.illegal.alien | 6.462072e-09 | 2.808122e-09 | 1.043081e-03 | 8.883476e-09 | 6.155901e-09 | 7.826542e-09 | 3.613237e-08 | 6.569559e-09 | 7.673465e-09 | 1.096336e-08 |\n",
       "| arm.embargo.china | 7.204933e-09 | 2.811310e-09 | 1.438524e-05 | 2.030847e-08 | 9.127400e-09 | 7.472811e-04 | 2.249177e-08 | 6.567333e-09 | 8.313699e-09 | 1.107165e-08 |\n",
       "| flag.protection.amendment | 6.714298e-09 | 3.038355e-09 | 9.563505e-04 | 6.550868e-05 | 7.321315e-09 | 6.703069e-09 | 4.879066e-09 | 6.190568e-09 | 7.642915e-09 | 1.797244e-08 |\n",
       "| low.cost.reliable | 6.930607e-09 | 2.811063e-09 | 9.283667e-09 | 7.843182e-09 | 7.916545e-09 | 2.068786e-05 | 7.771687e-09 | 6.227304e-09 | 7.517865e-09 | 1.274406e-03 |\n",
       "| assistant.secretary.commerce | 6.161912e-09 | 2.913145e-09 | 3.140081e-08 | 4.370295e-08 | 3.374246e-04 | 2.126886e-04 | 1.526575e-04 | 7.052376e-09 | 8.545884e-09 | 1.465870e-08 |\n",
       "| human.right.body | 6.665296e-09 | 2.812123e-09 | 1.215490e-08 | 5.977476e-04 | 6.503765e-09 | 6.631820e-09 | 4.273218e-09 | 5.783624e-09 | 7.565576e-09 | 4.245899e-04 |\n",
       "| indian.art.craft | 6.682354e-09 | 2.862145e-09 | 1.403114e-05 | 8.210221e-04 | 6.893892e-06 | 1.253957e-05 | 1.562210e-07 | 6.882550e-09 | 9.208494e-09 | 1.095613e-08 |\n",
       "| nation.oil.food | 7.218910e-09 | 2.813587e-09 | 1.714565e-08 | 8.039563e-04 | 4.204675e-05 | 8.903885e-09 | 2.292051e-08 | 5.776981e-09 | 7.694376e-09 | 2.126665e-08 |\n",
       "| using.adult.stem | 6.233140e-09 | 2.839382e-09 | 1.095408e-08 | 8.389867e-09 | 7.637445e-09 | 6.438742e-09 | 5.352063e-09 | 5.820387e-09 | 8.992327e-09 | 1.419349e-03 |\n",
       "| valid.driver.license | 7.794345e-09 | 2.849472e-09 | 8.380959e-04 | 8.205808e-09 | 8.033650e-09 | 7.046951e-09 | 4.698695e-09 | 5.814640e-09 | 9.001854e-09 | 3.667270e-04 |\n",
       "| weapon.grade.plutonium | 6.132749e-09 | 2.818881e-09 | 9.117948e-09 | 2.779315e-04 | 1.418338e-08 | 4.900006e-04 | 1.259782e-08 | 6.356560e-09 | 9.322752e-09 | 1.095991e-04 |\n",
       "| marriage.protection.amendment | 6.324463e-09 | 2.828865e-09 | 2.533148e-08 | 2.234908e-08 | 5.923705e-04 | 2.623175e-08 | 1.058799e-04 | 6.793571e-09 | 1.006982e-08 | 1.058765e-04 |\n",
       "| people.middle.east | 8.332801e-09 | 2.996373e-09 | 2.701245e-04 | 1.280712e-04 | 1.789308e-04 | 6.849634e-09 | 1.712376e-04 | 5.948899e-09 | 7.964296e-09 | 1.827254e-04 |\n",
       "| produce.stem.cel | 6.959429e-09 | 2.921027e-09 | 1.071229e-08 | 6.905155e-09 | 6.906569e-09 | 6.533568e-09 | 4.183748e-09 | 5.883142e-09 | 1.066589e-08 | 1.528532e-03 |\n",
       "| united.nation.oil | 7.121758e-09 | 2.816429e-09 | 1.680798e-08 | 8.632152e-04 | 4.751274e-05 | 8.878267e-09 | 1.835430e-08 | 5.776607e-09 | 7.708988e-09 | 2.080362e-08 |\n",
       "| winning.war.iraq | 6.107825e-09 | 3.027545e-09 | 1.431187e-08 | 9.136095e-04 | 4.109671e-06 | 6.320015e-09 | 4.480383e-09 | 5.764438e-09 | 7.543833e-09 | 1.699125e-07 |\n",
       "| ayman.al.zawahiri | 6.740074e-09 | 5.423743e-09 | 1.254927e-08 | 8.733830e-04 | 7.643695e-09 | 1.472945e-08 | 7.052026e-05 | 8.166174e-09 | 1.007586e-08 | 1.273702e-08 |\n",
       "| commonly.prescribed.drug | 6.192204e-09 | 5.955702e-09 | 1.369094e-05 | 1.344428e-08 | 6.775706e-09 | 9.372582e-04 | 4.207969e-09 | 5.780394e-09 | 8.129790e-09 | 1.210864e-08 |\n",
       "| county.north.carolina | 6.125420e-05 | 2.960374e-09 | 6.776385e-04 | 1.825934e-08 | 7.119491e-08 | 7.599326e-09 | 4.521979e-09 | 5.795389e-09 | 7.573690e-09 | 6.768966e-04 |\n",
       "| feder.air.marshal | 6.467059e-09 | 2.819765e-09 | 1.211962e-03 | 1.253711e-05 | 7.276090e-09 | 6.813109e-09 | 3.624343e-05 | 5.933623e-09 | 7.929982e-09 | 1.882189e-08 |\n",
       "| financial.accounting.standard | 6.417759e-09 | 2.833379e-09 | 8.157394e-08 | 2.071215e-08 | 8.265775e-09 | 6.323793e-09 | 4.185488e-09 | 5.868777e-09 | 1.119714e-03 | 1.113392e-08 |\n",
       "| ga.price.reduction | 6.403785e-09 | 2.807072e-09 | 1.028383e-08 | 6.792586e-09 | 5.933109e-09 | 7.190560e-09 | 2.571686e-08 | 5.924859e-09 | 7.585386e-09 | 1.637665e-03 |\n",
       "| sanctity.human.life | 6.666284e-09 | 3.189474e-09 | 5.560460e-07 | 6.257211e-04 | 9.873459e-09 | 6.944659e-09 | 9.397890e-05 | 6.473352e-09 | 9.455083e-09 | 3.502390e-04 |\n",
       "| united.airline.employe | 7.933519e-09 | 4.209660e-04 | 9.035910e-09 | 6.821420e-09 | 5.834069e-09 | 6.590807e-09 | 4.674008e-09 | 6.562528e-09 | 1.033518e-08 | 1.328946e-08 |\n",
       "| ... | ... | ... | ... | ... | ... | ... | ... | ... | ... | ... |\n",
       "| nuclear.weapon | 3.287822e-08 | 5.862558e-04 | 1.944790e-08 | 1.713941e-02 | 2.526388e-08 | 4.305962e-08 | 1.970838e-05 | 1.983260e-02 | 1.292501e-02 | 3.161199e-03 |\n",
       "| war.terror | 1.511162e-04 | 7.578580e-07 | 9.857716e-04 | 3.635154e-02 | 4.760582e-03 | 4.706979e-08 | 4.820306e-03 | 2.526162e-03 | 1.665658e-03 | 7.881874e-04 |\n",
       "| chief.justice | 1.744230e-08 | 8.949875e-09 | 8.132208e-03 | 2.226083e-04 | 9.481648e-07 | 8.281870e-04 | 3.063573e-02 | 1.572434e-08 | 2.331435e-07 | 5.370631e-08 |\n",
       "| judicial.nomine | 1.212135e-08 | 3.844849e-05 | 1.808827e-08 | 3.023997e-07 | 6.932372e-08 | 3.761644e-08 | 3.606240e-02 | 2.388590e-07 | 1.389753e-04 | 1.192156e-06 |\n",
       "| washington.dc | 3.374874e-03 | 4.982609e-03 | 6.914168e-03 | 6.989895e-03 | 6.279227e-03 | 1.474788e-02 | 4.088196e-03 | 1.533255e-04 | 6.228105e-04 | 7.036323e-04 |\n",
       "| war.iraq | 4.563402e-03 | 1.373473e-02 | 2.835885e-07 | 2.052721e-02 | 1.459933e-04 | 5.775141e-08 | 6.541420e-05 | 1.767616e-03 | 6.286351e-06 | 2.241414e-08 |\n",
       "| central.american | 1.572051e-08 | 2.676000e-07 | 4.917433e-06 | 1.543880e-05 | 2.033049e-08 | 2.133066e-04 | 1.934949e-03 | 8.934912e-07 | 6.472487e-02 | 3.335849e-08 |\n",
       "| head.start | 4.033740e-02 | 1.753742e-03 | 3.269862e-08 | 3.471820e-08 | 3.669222e-04 | 1.782649e-04 | 4.219641e-08 | 8.888126e-03 | 1.000226e-05 | 6.627038e-03 |\n",
       "| trade.deficit | 3.591161e-08 | 6.130559e-08 | 1.993341e-05 | 2.867804e-06 | 2.775329e-08 | 3.224421e-03 | 1.195182e-03 | 1.664234e-04 | 6.441241e-02 | 2.567735e-04 |\n",
       "| national.guard | 2.846286e-03 | 5.693789e-03 | 2.310223e-04 | 2.442674e-02 | 1.823941e-03 | 2.541497e-03 | 5.937985e-03 | 5.170632e-03 | 1.574983e-03 | 2.567728e-08 |\n",
       "| credit.card | 2.231049e-08 | 5.075301e-03 | 3.075186e-04 | 7.354008e-08 | 1.198334e-03 | 1.709142e-08 | 7.787106e-03 | 3.535224e-02 | 2.707087e-05 | 2.191287e-08 |\n",
       "| iraq.afghanistan | 5.505669e-08 | 1.126456e-02 | 1.104762e-04 | 2.769150e-02 | 7.928274e-04 | 1.582460e-03 | 2.757930e-03 | 6.040245e-03 | 4.707780e-04 | 3.023771e-08 |\n",
       "| minimum.wage | 9.867113e-04 | 1.179756e-03 | 1.676643e-08 | 1.196623e-08 | 1.399367e-08 | 1.186137e-08 | 2.643796e-03 | 5.378445e-02 | 7.339925e-04 | 1.613835e-08 |\n",
       "| strong.support | 2.073770e-02 | 8.968183e-04 | 2.591993e-02 | 1.627064e-02 | 4.705341e-03 | 2.133998e-03 | 2.070142e-04 | 8.798751e-04 | 6.570639e-06 | 5.734701e-03 |\n",
       "| gulf.coast | 2.136451e-02 | 5.764092e-03 | 2.897435e-03 | 1.587384e-02 | 7.781763e-03 | 4.001958e-03 | 2.486532e-03 | 4.553310e-03 | 3.283562e-04 | 2.739479e-08 |\n",
       "| billion.dollar | 7.425705e-03 | 1.270259e-02 | 2.056508e-03 | 9.546386e-03 | 6.855608e-03 | 7.694886e-03 | 1.867587e-03 | 1.956935e-03 | 7.636645e-03 | 1.990511e-03 |\n",
       "| million.american | 1.273121e-02 | 7.842597e-03 | 8.348324e-03 | 2.077982e-03 | 6.387228e-03 | 6.216363e-03 | 4.910971e-03 | 1.360062e-02 | 4.933738e-03 | 2.935860e-03 |\n",
       "| fre.trade | 1.842510e-08 | 1.048940e-08 | 2.061899e-03 | 1.790605e-03 | 4.631118e-07 | 6.982846e-04 | 4.297348e-03 | 2.945310e-08 | 8.331952e-02 | 1.702692e-06 |\n",
       "| african.american | 6.311132e-02 | 1.905974e-06 | 4.926014e-07 | 3.629658e-04 | 3.398476e-06 | 1.772413e-03 | 1.081177e-02 | 9.361895e-08 | 5.474354e-04 | 3.983859e-08 |\n",
       "| low.income | 1.406667e-02 | 3.527559e-03 | 3.867532e-08 | 1.909632e-08 | 1.686206e-02 | 1.524457e-02 | 1.410529e-03 | 2.326439e-02 | 2.866164e-03 | 8.253039e-04 |\n",
       "| prescription.drug | 3.184578e-08 | 1.907865e-02 | 5.702191e-05 | 1.555578e-08 | 1.432678e-02 | 1.399206e-02 | 6.368482e-03 | 2.183322e-04 | 5.448070e-03 | 1.042127e-04 |\n",
       "| class.action | 1.203818e-08 | 6.056913e-09 | 3.577466e-02 | 1.371112e-08 | 3.892926e-03 | 3.505266e-08 | 3.934334e-02 | 3.593330e-04 | 1.063378e-08 | 1.780035e-08 |\n",
       "| civil.right | 4.609326e-02 | 3.835761e-04 | 2.448509e-03 | 5.408146e-08 | 2.163890e-08 | 2.015221e-03 | 1.635095e-02 | 1.278408e-02 | 6.540227e-04 | 4.729346e-08 |\n",
       "| look.forward | 8.162086e-03 | 2.557946e-03 | 1.223362e-02 | 1.473526e-02 | 1.198138e-02 | 1.665298e-02 | 1.703090e-02 | 8.202935e-03 | 7.911075e-05 | 1.400356e-03 |\n",
       "| stem.cel | 1.282452e-08 | 8.719621e-09 | 1.411908e-08 | 9.809679e-09 | 9.418522e-09 | 8.634872e-09 | 7.559863e-07 | 3.681859e-08 | 4.516508e-08 | 1.854964e-01 |\n",
       "| natural.ga | 1.720164e-08 | 8.247484e-04 | 6.154477e-08 | 1.605545e-07 | 3.170689e-08 | 4.599072e-02 | 7.419244e-04 | 1.811894e-03 | 5.074089e-04 | 1.068116e-01 |\n",
       "| hurricane.katrina | 2.751108e-02 | 1.633351e-02 | 1.746444e-02 | 1.059758e-02 | 1.018478e-02 | 1.000009e-02 | 3.827309e-03 | 8.350476e-03 | 3.676112e-03 | 1.088477e-05 |\n",
       "| trade.agreement | 2.669439e-08 | 2.823227e-04 | 1.253786e-04 | 1.107865e-04 | 2.839125e-08 | 1.417790e-03 | 6.235477e-03 | 5.827842e-07 | 1.600680e-01 | 3.088630e-08 |\n",
       "| appropriation.bil | 1.005185e-04 | 1.105010e-02 | 6.930070e-03 | 4.333898e-02 | 9.549849e-03 | 1.700082e-02 | 2.538670e-02 | 8.688182e-03 | 1.821706e-03 | 2.921838e-05 |\n",
       "| american.people | 1.252622e-02 | 7.655936e-02 | 2.976355e-02 | 5.917094e-02 | 3.458721e-02 | 4.113964e-03 | 3.967682e-02 | 1.132044e-02 | 1.484580e-02 | 6.090931e-03 |\n",
       "\n"
      ],
      "text/plain": [
       "                              1            2            3           \n",
       "gifted.talented.student       6.106580e-09 2.807175e-09 8.732176e-09\n",
       "national.heritage.corridor    2.469811e-05 2.816632e-09 1.358435e-08\n",
       "national.homeownership.month  6.111090e-05 2.815981e-09 7.789241e-07\n",
       "near.retirement.age           6.104929e-09 2.809295e-09 9.336011e-09\n",
       "personal.injury.lawyer        6.407064e-09 2.818895e-09 3.588703e-04\n",
       "regional.training.cent        6.213510e-09 2.817956e-09 1.135626e-08\n",
       "amnesty.illegal.alien         6.462072e-09 2.808122e-09 1.043081e-03\n",
       "arm.embargo.china             7.204933e-09 2.811310e-09 1.438524e-05\n",
       "flag.protection.amendment     6.714298e-09 3.038355e-09 9.563505e-04\n",
       "low.cost.reliable             6.930607e-09 2.811063e-09 9.283667e-09\n",
       "assistant.secretary.commerce  6.161912e-09 2.913145e-09 3.140081e-08\n",
       "human.right.body              6.665296e-09 2.812123e-09 1.215490e-08\n",
       "indian.art.craft              6.682354e-09 2.862145e-09 1.403114e-05\n",
       "nation.oil.food               7.218910e-09 2.813587e-09 1.714565e-08\n",
       "using.adult.stem              6.233140e-09 2.839382e-09 1.095408e-08\n",
       "valid.driver.license          7.794345e-09 2.849472e-09 8.380959e-04\n",
       "weapon.grade.plutonium        6.132749e-09 2.818881e-09 9.117948e-09\n",
       "marriage.protection.amendment 6.324463e-09 2.828865e-09 2.533148e-08\n",
       "people.middle.east            8.332801e-09 2.996373e-09 2.701245e-04\n",
       "produce.stem.cel              6.959429e-09 2.921027e-09 1.071229e-08\n",
       "united.nation.oil             7.121758e-09 2.816429e-09 1.680798e-08\n",
       "winning.war.iraq              6.107825e-09 3.027545e-09 1.431187e-08\n",
       "ayman.al.zawahiri             6.740074e-09 5.423743e-09 1.254927e-08\n",
       "commonly.prescribed.drug      6.192204e-09 5.955702e-09 1.369094e-05\n",
       "county.north.carolina         6.125420e-05 2.960374e-09 6.776385e-04\n",
       "feder.air.marshal             6.467059e-09 2.819765e-09 1.211962e-03\n",
       "financial.accounting.standard 6.417759e-09 2.833379e-09 8.157394e-08\n",
       "ga.price.reduction            6.403785e-09 2.807072e-09 1.028383e-08\n",
       "sanctity.human.life           6.666284e-09 3.189474e-09 5.560460e-07\n",
       "united.airline.employe        7.933519e-09 4.209660e-04 9.035910e-09\n",
       "...                           ...          ...          ...         \n",
       "nuclear.weapon                3.287822e-08 5.862558e-04 1.944790e-08\n",
       "war.terror                    1.511162e-04 7.578580e-07 9.857716e-04\n",
       "chief.justice                 1.744230e-08 8.949875e-09 8.132208e-03\n",
       "judicial.nomine               1.212135e-08 3.844849e-05 1.808827e-08\n",
       "washington.dc                 3.374874e-03 4.982609e-03 6.914168e-03\n",
       "war.iraq                      4.563402e-03 1.373473e-02 2.835885e-07\n",
       "central.american              1.572051e-08 2.676000e-07 4.917433e-06\n",
       "head.start                    4.033740e-02 1.753742e-03 3.269862e-08\n",
       "trade.deficit                 3.591161e-08 6.130559e-08 1.993341e-05\n",
       "national.guard                2.846286e-03 5.693789e-03 2.310223e-04\n",
       "credit.card                   2.231049e-08 5.075301e-03 3.075186e-04\n",
       "iraq.afghanistan              5.505669e-08 1.126456e-02 1.104762e-04\n",
       "minimum.wage                  9.867113e-04 1.179756e-03 1.676643e-08\n",
       "strong.support                2.073770e-02 8.968183e-04 2.591993e-02\n",
       "gulf.coast                    2.136451e-02 5.764092e-03 2.897435e-03\n",
       "billion.dollar                7.425705e-03 1.270259e-02 2.056508e-03\n",
       "million.american              1.273121e-02 7.842597e-03 8.348324e-03\n",
       "fre.trade                     1.842510e-08 1.048940e-08 2.061899e-03\n",
       "african.american              6.311132e-02 1.905974e-06 4.926014e-07\n",
       "low.income                    1.406667e-02 3.527559e-03 3.867532e-08\n",
       "prescription.drug             3.184578e-08 1.907865e-02 5.702191e-05\n",
       "class.action                  1.203818e-08 6.056913e-09 3.577466e-02\n",
       "civil.right                   4.609326e-02 3.835761e-04 2.448509e-03\n",
       "look.forward                  8.162086e-03 2.557946e-03 1.223362e-02\n",
       "stem.cel                      1.282452e-08 8.719621e-09 1.411908e-08\n",
       "natural.ga                    1.720164e-08 8.247484e-04 6.154477e-08\n",
       "hurricane.katrina             2.751108e-02 1.633351e-02 1.746444e-02\n",
       "trade.agreement               2.669439e-08 2.823227e-04 1.253786e-04\n",
       "appropriation.bil             1.005185e-04 1.105010e-02 6.930070e-03\n",
       "american.people               1.252622e-02 7.655936e-02 2.976355e-02\n",
       "                              4            5            6           \n",
       "gifted.talented.student       7.673126e-09 6.207497e-04 6.548186e-09\n",
       "national.heritage.corridor    7.124072e-09 6.763767e-09 6.690550e-04\n",
       "national.homeownership.month  1.189053e-08 5.637561e-04 8.839347e-09\n",
       "near.retirement.age           6.565172e-09 6.207766e-04 6.317829e-09\n",
       "personal.injury.lawyer        8.589249e-09 1.621754e-04 6.373082e-09\n",
       "regional.training.cent        9.789318e-09 5.648596e-09 6.316186e-09\n",
       "amnesty.illegal.alien         8.883476e-09 6.155901e-09 7.826542e-09\n",
       "arm.embargo.china             2.030847e-08 9.127400e-09 7.472811e-04\n",
       "flag.protection.amendment     6.550868e-05 7.321315e-09 6.703069e-09\n",
       "low.cost.reliable             7.843182e-09 7.916545e-09 2.068786e-05\n",
       "assistant.secretary.commerce  4.370295e-08 3.374246e-04 2.126886e-04\n",
       "human.right.body              5.977476e-04 6.503765e-09 6.631820e-09\n",
       "indian.art.craft              8.210221e-04 6.893892e-06 1.253957e-05\n",
       "nation.oil.food               8.039563e-04 4.204675e-05 8.903885e-09\n",
       "using.adult.stem              8.389867e-09 7.637445e-09 6.438742e-09\n",
       "valid.driver.license          8.205808e-09 8.033650e-09 7.046951e-09\n",
       "weapon.grade.plutonium        2.779315e-04 1.418338e-08 4.900006e-04\n",
       "marriage.protection.amendment 2.234908e-08 5.923705e-04 2.623175e-08\n",
       "people.middle.east            1.280712e-04 1.789308e-04 6.849634e-09\n",
       "produce.stem.cel              6.905155e-09 6.906569e-09 6.533568e-09\n",
       "united.nation.oil             8.632152e-04 4.751274e-05 8.878267e-09\n",
       "winning.war.iraq              9.136095e-04 4.109671e-06 6.320015e-09\n",
       "ayman.al.zawahiri             8.733830e-04 7.643695e-09 1.472945e-08\n",
       "commonly.prescribed.drug      1.344428e-08 6.775706e-09 9.372582e-04\n",
       "county.north.carolina         1.825934e-08 7.119491e-08 7.599326e-09\n",
       "feder.air.marshal             1.253711e-05 7.276090e-09 6.813109e-09\n",
       "financial.accounting.standard 2.071215e-08 8.265775e-09 6.323793e-09\n",
       "ga.price.reduction            6.792586e-09 5.933109e-09 7.190560e-09\n",
       "sanctity.human.life           6.257211e-04 9.873459e-09 6.944659e-09\n",
       "united.airline.employe        6.821420e-09 5.834069e-09 6.590807e-09\n",
       "...                           ...          ...          ...         \n",
       "nuclear.weapon                1.713941e-02 2.526388e-08 4.305962e-08\n",
       "war.terror                    3.635154e-02 4.760582e-03 4.706979e-08\n",
       "chief.justice                 2.226083e-04 9.481648e-07 8.281870e-04\n",
       "judicial.nomine               3.023997e-07 6.932372e-08 3.761644e-08\n",
       "washington.dc                 6.989895e-03 6.279227e-03 1.474788e-02\n",
       "war.iraq                      2.052721e-02 1.459933e-04 5.775141e-08\n",
       "central.american              1.543880e-05 2.033049e-08 2.133066e-04\n",
       "head.start                    3.471820e-08 3.669222e-04 1.782649e-04\n",
       "trade.deficit                 2.867804e-06 2.775329e-08 3.224421e-03\n",
       "national.guard                2.442674e-02 1.823941e-03 2.541497e-03\n",
       "credit.card                   7.354008e-08 1.198334e-03 1.709142e-08\n",
       "iraq.afghanistan              2.769150e-02 7.928274e-04 1.582460e-03\n",
       "minimum.wage                  1.196623e-08 1.399367e-08 1.186137e-08\n",
       "strong.support                1.627064e-02 4.705341e-03 2.133998e-03\n",
       "gulf.coast                    1.587384e-02 7.781763e-03 4.001958e-03\n",
       "billion.dollar                9.546386e-03 6.855608e-03 7.694886e-03\n",
       "million.american              2.077982e-03 6.387228e-03 6.216363e-03\n",
       "fre.trade                     1.790605e-03 4.631118e-07 6.982846e-04\n",
       "african.american              3.629658e-04 3.398476e-06 1.772413e-03\n",
       "low.income                    1.909632e-08 1.686206e-02 1.524457e-02\n",
       "prescription.drug             1.555578e-08 1.432678e-02 1.399206e-02\n",
       "class.action                  1.371112e-08 3.892926e-03 3.505266e-08\n",
       "civil.right                   5.408146e-08 2.163890e-08 2.015221e-03\n",
       "look.forward                  1.473526e-02 1.198138e-02 1.665298e-02\n",
       "stem.cel                      9.809679e-09 9.418522e-09 8.634872e-09\n",
       "natural.ga                    1.605545e-07 3.170689e-08 4.599072e-02\n",
       "hurricane.katrina             1.059758e-02 1.018478e-02 1.000009e-02\n",
       "trade.agreement               1.107865e-04 2.839125e-08 1.417790e-03\n",
       "appropriation.bil             4.333898e-02 9.549849e-03 1.700082e-02\n",
       "american.people               5.917094e-02 3.458721e-02 4.113964e-03\n",
       "                              7            8            9           \n",
       "gifted.talented.student       2.150572e-08 5.962403e-09 9.982102e-09\n",
       "national.heritage.corridor    4.208087e-09 5.807757e-09 2.098875e-08\n",
       "national.homeownership.month  5.132473e-09 5.842364e-09 7.791894e-09\n",
       "near.retirement.age           4.188501e-09 5.763409e-09 7.472261e-09\n",
       "personal.injury.lawyer        1.671154e-04 5.910372e-09 8.171248e-09\n",
       "regional.training.cent        4.482719e-09 5.762950e-09 7.665406e-09\n",
       "amnesty.illegal.alien         3.613237e-08 6.569559e-09 7.673465e-09\n",
       "arm.embargo.china             2.249177e-08 6.567333e-09 8.313699e-09\n",
       "flag.protection.amendment     4.879066e-09 6.190568e-09 7.642915e-09\n",
       "low.cost.reliable             7.771687e-09 6.227304e-09 7.517865e-09\n",
       "assistant.secretary.commerce  1.526575e-04 7.052376e-09 8.545884e-09\n",
       "human.right.body              4.273218e-09 5.783624e-09 7.565576e-09\n",
       "indian.art.craft              1.562210e-07 6.882550e-09 9.208494e-09\n",
       "nation.oil.food               2.292051e-08 5.776981e-09 7.694376e-09\n",
       "using.adult.stem              5.352063e-09 5.820387e-09 8.992327e-09\n",
       "valid.driver.license          4.698695e-09 5.814640e-09 9.001854e-09\n",
       "weapon.grade.plutonium        1.259782e-08 6.356560e-09 9.322752e-09\n",
       "marriage.protection.amendment 1.058799e-04 6.793571e-09 1.006982e-08\n",
       "people.middle.east            1.712376e-04 5.948899e-09 7.964296e-09\n",
       "produce.stem.cel              4.183748e-09 5.883142e-09 1.066589e-08\n",
       "united.nation.oil             1.835430e-08 5.776607e-09 7.708988e-09\n",
       "winning.war.iraq              4.480383e-09 5.764438e-09 7.543833e-09\n",
       "ayman.al.zawahiri             7.052026e-05 8.166174e-09 1.007586e-08\n",
       "commonly.prescribed.drug      4.207969e-09 5.780394e-09 8.129790e-09\n",
       "county.north.carolina         4.521979e-09 5.795389e-09 7.573690e-09\n",
       "feder.air.marshal             3.624343e-05 5.933623e-09 7.929982e-09\n",
       "financial.accounting.standard 4.185488e-09 5.868777e-09 1.119714e-03\n",
       "ga.price.reduction            2.571686e-08 5.924859e-09 7.585386e-09\n",
       "sanctity.human.life           9.397890e-05 6.473352e-09 9.455083e-09\n",
       "united.airline.employe        4.674008e-09 6.562528e-09 1.033518e-08\n",
       "...                           ...          ...          ...         \n",
       "nuclear.weapon                1.970838e-05 1.983260e-02 1.292501e-02\n",
       "war.terror                    4.820306e-03 2.526162e-03 1.665658e-03\n",
       "chief.justice                 3.063573e-02 1.572434e-08 2.331435e-07\n",
       "judicial.nomine               3.606240e-02 2.388590e-07 1.389753e-04\n",
       "washington.dc                 4.088196e-03 1.533255e-04 6.228105e-04\n",
       "war.iraq                      6.541420e-05 1.767616e-03 6.286351e-06\n",
       "central.american              1.934949e-03 8.934912e-07 6.472487e-02\n",
       "head.start                    4.219641e-08 8.888126e-03 1.000226e-05\n",
       "trade.deficit                 1.195182e-03 1.664234e-04 6.441241e-02\n",
       "national.guard                5.937985e-03 5.170632e-03 1.574983e-03\n",
       "credit.card                   7.787106e-03 3.535224e-02 2.707087e-05\n",
       "iraq.afghanistan              2.757930e-03 6.040245e-03 4.707780e-04\n",
       "minimum.wage                  2.643796e-03 5.378445e-02 7.339925e-04\n",
       "strong.support                2.070142e-04 8.798751e-04 6.570639e-06\n",
       "gulf.coast                    2.486532e-03 4.553310e-03 3.283562e-04\n",
       "billion.dollar                1.867587e-03 1.956935e-03 7.636645e-03\n",
       "million.american              4.910971e-03 1.360062e-02 4.933738e-03\n",
       "fre.trade                     4.297348e-03 2.945310e-08 8.331952e-02\n",
       "african.american              1.081177e-02 9.361895e-08 5.474354e-04\n",
       "low.income                    1.410529e-03 2.326439e-02 2.866164e-03\n",
       "prescription.drug             6.368482e-03 2.183322e-04 5.448070e-03\n",
       "class.action                  3.934334e-02 3.593330e-04 1.063378e-08\n",
       "civil.right                   1.635095e-02 1.278408e-02 6.540227e-04\n",
       "look.forward                  1.703090e-02 8.202935e-03 7.911075e-05\n",
       "stem.cel                      7.559863e-07 3.681859e-08 4.516508e-08\n",
       "natural.ga                    7.419244e-04 1.811894e-03 5.074089e-04\n",
       "hurricane.katrina             3.827309e-03 8.350476e-03 3.676112e-03\n",
       "trade.agreement               6.235477e-03 5.827842e-07 1.600680e-01\n",
       "appropriation.bil             2.538670e-02 8.688182e-03 1.821706e-03\n",
       "american.people               3.967682e-02 1.132044e-02 1.484580e-02\n",
       "                              10          \n",
       "gifted.talented.student       1.457420e-08\n",
       "national.heritage.corridor    1.147766e-08\n",
       "national.homeownership.month  1.332548e-08\n",
       "near.retirement.age           1.318285e-08\n",
       "personal.injury.lawyer        3.062252e-08\n",
       "regional.training.cent        1.200992e-03\n",
       "amnesty.illegal.alien         1.096336e-08\n",
       "arm.embargo.china             1.107165e-08\n",
       "flag.protection.amendment     1.797244e-08\n",
       "low.cost.reliable             1.274406e-03\n",
       "assistant.secretary.commerce  1.465870e-08\n",
       "human.right.body              4.245899e-04\n",
       "indian.art.craft              1.095613e-08\n",
       "nation.oil.food               2.126665e-08\n",
       "using.adult.stem              1.419349e-03\n",
       "valid.driver.license          3.667270e-04\n",
       "weapon.grade.plutonium        1.095991e-04\n",
       "marriage.protection.amendment 1.058765e-04\n",
       "people.middle.east            1.827254e-04\n",
       "produce.stem.cel              1.528532e-03\n",
       "united.nation.oil             2.080362e-08\n",
       "winning.war.iraq              1.699125e-07\n",
       "ayman.al.zawahiri             1.273702e-08\n",
       "commonly.prescribed.drug      1.210864e-08\n",
       "county.north.carolina         6.768966e-04\n",
       "feder.air.marshal             1.882189e-08\n",
       "financial.accounting.standard 1.113392e-08\n",
       "ga.price.reduction            1.637665e-03\n",
       "sanctity.human.life           3.502390e-04\n",
       "united.airline.employe        1.328946e-08\n",
       "...                           ...         \n",
       "nuclear.weapon                3.161199e-03\n",
       "war.terror                    7.881874e-04\n",
       "chief.justice                 5.370631e-08\n",
       "judicial.nomine               1.192156e-06\n",
       "washington.dc                 7.036323e-04\n",
       "war.iraq                      2.241414e-08\n",
       "central.american              3.335849e-08\n",
       "head.start                    6.627038e-03\n",
       "trade.deficit                 2.567735e-04\n",
       "national.guard                2.567728e-08\n",
       "credit.card                   2.191287e-08\n",
       "iraq.afghanistan              3.023771e-08\n",
       "minimum.wage                  1.613835e-08\n",
       "strong.support                5.734701e-03\n",
       "gulf.coast                    2.739479e-08\n",
       "billion.dollar                1.990511e-03\n",
       "million.american              2.935860e-03\n",
       "fre.trade                     1.702692e-06\n",
       "african.american              3.983859e-08\n",
       "low.income                    8.253039e-04\n",
       "prescription.drug             1.042127e-04\n",
       "class.action                  1.780035e-08\n",
       "civil.right                   4.729346e-08\n",
       "look.forward                  1.400356e-03\n",
       "stem.cel                      1.854964e-01\n",
       "natural.ga                    1.068116e-01\n",
       "hurricane.katrina             1.088477e-05\n",
       "trade.agreement               3.088630e-08\n",
       "appropriation.bil             2.921838e-05\n",
       "american.people               6.090931e-03"
      ]
     },
     "metadata": {},
     "output_type": "display_data"
    }
   ],
   "source": [
    "tpcs$theta # The composition of each of the ten topics"
   ]
  },
  {
   "cell_type": "code",
   "execution_count": 17,
   "metadata": {},
   "outputs": [
    {
     "data": {
      "image/png": "[encoded data removed]",
      "text/plain": [
       "plot without title"
      ]
     },
     "metadata": {},
     "output_type": "display_data"
    }
   ],
   "source": [
    "# Wordcloud of topic 1\n",
    "wordcloud(row.names(tpcs$theta), \n",
    "          freq=tpcs$theta[,1], min.freq=0.004, col=\"maroon\")"
   ]
  },
  {
   "cell_type": "code",
   "execution_count": 18,
   "metadata": {},
   "outputs": [
    {
     "data": {
      "image/png": "[encoded data removed]",
      "text/plain": [
       "plot without title"
      ]
     },
     "metadata": {},
     "output_type": "display_data"
    }
   ],
   "source": [
    "# Wordcloud of topic 2\n",
    "wordcloud(row.names(tpcs$theta), \n",
    "          freq=tpcs$theta[,2], min.freq=0.004, col=\"navy\")"
   ]
  },
  {
   "cell_type": "code",
   "execution_count": 19,
   "metadata": {},
   "outputs": [
    {
     "name": "stdout",
     "output_type": "stream",
     "text": [
      "1 african.american civil.right head.start rosa.park domestic.violence \n",
      "2 american.people prescription.drug hurricane.katrina private.account middle.class \n",
      "3 postal.service private.property class.action illegal.alien illegal.immigration \n",
      "4 american.people appropriation.bil iraqi.people war.terror saddam.hussein \n",
      "5 tax.relief american.people economic.growth death.tax finance.committe \n",
      "6 natural.ga climate.change natural.resource foreign.oil hate.crime \n",
      "7 american.people class.action judicial.nomine chief.justice judge.robert \n",
      "8 minimum.wage credit.card low.income nuclear.weapon gun.deal \n",
      "9 trade.agreement fre.trade central.american trade.deficit american.fre.trade \n",
      "10 stem.cel natural.ga cel.research embryonic.stem embryonic.stem.cel \n"
     ]
    }
   ],
   "source": [
    "# Print top ten phrases for each of ten topics\n",
    "for(i in 1:10){\n",
    "    cat(i, rownames(tpcs$theta)[order(tpcs$theta[,i], decreasing=TRUE)[1:5]], '\\n')\n",
    "    }"
   ]
  },
  {
   "cell_type": "markdown",
   "metadata": {},
   "source": [
    "#### Interpretation\n",
    "Topic 01 - Civil rights <br>\n",
    "Topic 02 - Health Care <br>\n",
    "Topic 03 - Immigration <br>\n",
    "Topic 04 - War <br>\n",
    "Topic 05 - Taxes <br>\n",
    "Topic 06 - Natural Resources <br>\n",
    "Topic 07 - Judiciary <br>\n",
    "Topic 08 - Guns and Income <br>\n",
    "Topic 09 - Trade <br>\n",
    "Topic 10 - Stem Cell Research"
   ]
  },
  {
   "cell_type": "markdown",
   "metadata": {},
   "source": [
    "#### Part 4\n",
    "- Tabulate party membership by topic clusters. \n",
    "- Fit topic regressions for party membership: predict party membership by a) topic clusters and b) phrase counts separately and compare the performance of the two models.<br>\n",
    "** We use clusters generated by topic models rather than K-means to predict party membership because the former is easier to interpret, fits better according to information criteria and gives omega matrix (possibility of each observations falling in each of ten clusters) which can be directly used as independent variables. \n"
   ]
  },
  {
   "cell_type": "code",
   "execution_count": 28,
   "metadata": {},
   "outputs": [
    {
     "name": "stdout",
     "output_type": "stream",
     "text": [
      "\n",
      "Estimating on a 529 document collection.\n",
      "Fit and Bayes Factor Estimation for K = 5 ... 25\n",
      "log posterior increase: 6250.9, 5343.6, 4087.6, 3171.8, 2517.7, 1997.5, 1757.8, 1621.5, 1486.2, 1367.6, 1240.2, 1167.2, 1077.1, 999.2, 897.3, 776.3, 686.9, 634.6, 598.5, 552.6, 504.8, 468.4, 449.4, 439.9, 425.7, 436.1, 441, 427.9, 418.2, 419.2, 395.4, done. (L = -1028222.6)\n",
      "log BF( 5 ) = 57506.56 [  32 steps, disp = 3.65  ]\n",
      "log posterior increase: 4384.5, 2580.8, 1914.4, 1983.9, 1311.1, 1076.7, 980.4, 744.9, 567, 480.6, 404.5, 339.8, 294.9, 306.1, 327.6, 295, 272.4, 236.2, 231.8, 214.8, 188.6, 188.6, 158, 137, 131.3, 141.4, 171.3, 207.1, 200.8, 182.7, 181.8, 189.5, 190.5, 180, 161.5, 150.3, 150.1, 159.8, 169.4, 177.1, 183.3, 190.2, 197.2, 205.7, 220.6, 239, 251.5, 262.4, 249, 230.1, 248.6, 267.5, 233.1, 203, 189.6, 212.5, 243.2, 266.2, 226.7, 177.8, 154.2, 143.3, 122.8, done. (L = -991521.9)\n",
      "log BF( 10 ) = 77508.5 [  64 steps, disp = 2.9  ]\n",
      "log posterior increase: 3328.5, 2119.1, 1376.8, 926.6, 745.7, 578.8, 492.1, 419.5, 341.6, 288.8, 266.8, 266.7, 219.3, 166.7, 146, 127.3, 105.1, 93.4, 84.6, 76.2, 199.3, 80.1, 97.6, 57.6, 64.5, 73.3, 52.1, 65.1, 61.4, 44.6, 52.8, 58, 41.1, 43.6, 44.1, 33.7, 41, 49.9, 45.7, 47.9, 57, 50.1, 47.9, 104.2, 63.3, 66.8, 114.5, 77.2, 194.1, 131.7, 126.2, 144, 148.9, 126.1, 95.4, 92.4, 176, 226.4, 161.4, 145.4, 92.7, 68.7, done. (L = -972031.5)\n",
      "log BF( 15 ) = 76830.85 [  63 steps, disp = 2.48  ]\n",
      "log posterior increase: 1986.5, 1132.8, 725.2, 557.5, 448.3, 377.4, 313.5, 267.2, 257.8, 282.1, 293.7, 287.7, 277.7, 219.2, 205.9, 215, 197.1, 157.7, 138.3, 127, 120.2, 112.6, 101.6, 90.9, 83.5, 77.9, 75.1, 74.1, 72.3, 71.1, 69.7, 80.4, 101.4, 56.4, 50.3, 77.2, 97.2, 75.4, 125.9, 60.7, 70, 143.2, 79.8, 83.3, 169.3, 76.9, 67.7, 174.9, 65.7, 56.7, 55.7, 44.4, 43.5, 45, 48, 53, 57.8, 56.5, 113.2, 47.6, 35.7, done. (L = -957860.8)\n",
      "log BF( 20 ) = 68467.05 [  62 steps, disp = 2.23  ]\n"
     ]
    }
   ],
   "source": [
    "cg_std <- scale(as.matrix(congress109Counts/rowSums(congress109Counts) ))\n",
    "cg <- as.simple_triplet_matrix(congress109Counts)\n",
    "tpcs <- topics(cg, K=5*(1:5), verb=10)\n",
    "party <- data.frame(congress109Ideology[,\"party\"])\n",
    "rownames(party) <- rownames(congress109Ideology)"
   ]
  },
  {
   "cell_type": "code",
   "execution_count": 26,
   "metadata": {},
   "outputs": [],
   "source": [
    "# omega returns the possibility of each legislator's remarks falling into each cluster\n",
    "p_cluster<-as.matrix(tpcs$omega)\n",
    "party_p_cluster<-merge(party,p_cluster, by = \"row.names\")\n",
    "rownames(party_p_cluster)<-party_p_cluster$Row.names\n",
    "party_p_cluster<-party_p_cluster[,-1]"
   ]
  },
  {
   "cell_type": "code",
   "execution_count": 40,
   "metadata": {},
   "outputs": [],
   "source": [
    "# Tabulate party membership by topic clusters.\n",
    "leg_par_clu<-gather(party_p_cluster,2:11,key=\"cluster\",value=\"possibility\")%>%\n",
    "  group_by(congress109Ideology....party..,cluster)%>%\n",
    "  summarise(mean(possibility))"
   ]
  },
  {
   "cell_type": "code",
   "execution_count": 45,
   "metadata": {},
   "outputs": [
    {
     "data": {
      "text/html": [
       "<table>\n",
       "<thead><tr><th scope=col>congress109Ideology....party..</th><th scope=col>cluster</th><th scope=col>mean(possibility)</th></tr></thead>\n",
       "<tbody>\n",
       "\t<tr><td>D           </td><td>1           </td><td>0.2233027046</td></tr>\n",
       "\t<tr><td>D           </td><td>10          </td><td>0.0277578581</td></tr>\n",
       "\t<tr><td>D           </td><td>2           </td><td>0.2790369746</td></tr>\n",
       "\t<tr><td>D           </td><td>3           </td><td>0.0612143560</td></tr>\n",
       "\t<tr><td>D           </td><td>4           </td><td>0.0742178412</td></tr>\n",
       "\t<tr><td>D           </td><td>5           </td><td>0.0565986167</td></tr>\n",
       "\t<tr><td>D           </td><td>6           </td><td>0.0674624492</td></tr>\n",
       "\t<tr><td>D           </td><td>7           </td><td>0.0443808274</td></tr>\n",
       "\t<tr><td>D           </td><td>8           </td><td>0.0957381468</td></tr>\n",
       "\t<tr><td>D           </td><td>9           </td><td>0.0702902253</td></tr>\n",
       "\t<tr><td>I           </td><td>1           </td><td>0.0448499143</td></tr>\n",
       "\t<tr><td>I           </td><td>10          </td><td>0.0005316946</td></tr>\n",
       "\t<tr><td>I           </td><td>2           </td><td>0.2321289973</td></tr>\n",
       "\t<tr><td>I           </td><td>3           </td><td>0.0016874843</td></tr>\n",
       "\t<tr><td>I           </td><td>4           </td><td>0.0006986535</td></tr>\n",
       "\t<tr><td>I           </td><td>5           </td><td>0.0104833411</td></tr>\n",
       "\t<tr><td>I           </td><td>6           </td><td>0.3262796962</td></tr>\n",
       "\t<tr><td>I           </td><td>7           </td><td>0.0700117107</td></tr>\n",
       "\t<tr><td>I           </td><td>8           </td><td>0.0338521557</td></tr>\n",
       "\t<tr><td>I           </td><td>9           </td><td>0.2794763524</td></tr>\n",
       "\t<tr><td>R           </td><td>1           </td><td>0.0947300785</td></tr>\n",
       "\t<tr><td>R           </td><td>10          </td><td>0.0722065038</td></tr>\n",
       "\t<tr><td>R           </td><td>2           </td><td>0.0329178352</td></tr>\n",
       "\t<tr><td>R           </td><td>3           </td><td>0.1997166095</td></tr>\n",
       "\t<tr><td>R           </td><td>4           </td><td>0.1794472200</td></tr>\n",
       "\t<tr><td>R           </td><td>5           </td><td>0.1874892377</td></tr>\n",
       "\t<tr><td>R           </td><td>6           </td><td>0.0862306025</td></tr>\n",
       "\t<tr><td>R           </td><td>7           </td><td>0.0795439186</td></tr>\n",
       "\t<tr><td>R           </td><td>8           </td><td>0.0269665450</td></tr>\n",
       "\t<tr><td>R           </td><td>9           </td><td>0.0407514494</td></tr>\n",
       "</tbody>\n",
       "</table>\n"
      ],
      "text/latex": [
       "\\begin{tabular}{r|lll}\n",
       " congress109Ideology....party.. & cluster & mean(possibility)\\\\\n",
       "\\hline\n",
       "\t D            & 1            & 0.2233027046\\\\\n",
       "\t D            & 10           & 0.0277578581\\\\\n",
       "\t D            & 2            & 0.2790369746\\\\\n",
       "\t D            & 3            & 0.0612143560\\\\\n",
       "\t D            & 4            & 0.0742178412\\\\\n",
       "\t D            & 5            & 0.0565986167\\\\\n",
       "\t D            & 6            & 0.0674624492\\\\\n",
       "\t D            & 7            & 0.0443808274\\\\\n",
       "\t D            & 8            & 0.0957381468\\\\\n",
       "\t D            & 9            & 0.0702902253\\\\\n",
       "\t I            & 1            & 0.0448499143\\\\\n",
       "\t I            & 10           & 0.0005316946\\\\\n",
       "\t I            & 2            & 0.2321289973\\\\\n",
       "\t I            & 3            & 0.0016874843\\\\\n",
       "\t I            & 4            & 0.0006986535\\\\\n",
       "\t I            & 5            & 0.0104833411\\\\\n",
       "\t I            & 6            & 0.3262796962\\\\\n",
       "\t I            & 7            & 0.0700117107\\\\\n",
       "\t I            & 8            & 0.0338521557\\\\\n",
       "\t I            & 9            & 0.2794763524\\\\\n",
       "\t R            & 1            & 0.0947300785\\\\\n",
       "\t R            & 10           & 0.0722065038\\\\\n",
       "\t R            & 2            & 0.0329178352\\\\\n",
       "\t R            & 3            & 0.1997166095\\\\\n",
       "\t R            & 4            & 0.1794472200\\\\\n",
       "\t R            & 5            & 0.1874892377\\\\\n",
       "\t R            & 6            & 0.0862306025\\\\\n",
       "\t R            & 7            & 0.0795439186\\\\\n",
       "\t R            & 8            & 0.0269665450\\\\\n",
       "\t R            & 9            & 0.0407514494\\\\\n",
       "\\end{tabular}\n"
      ],
      "text/markdown": [
       "\n",
       "| congress109Ideology....party.. | cluster | mean(possibility) |\n",
       "|---|---|---|\n",
       "| D            | 1            | 0.2233027046 |\n",
       "| D            | 10           | 0.0277578581 |\n",
       "| D            | 2            | 0.2790369746 |\n",
       "| D            | 3            | 0.0612143560 |\n",
       "| D            | 4            | 0.0742178412 |\n",
       "| D            | 5            | 0.0565986167 |\n",
       "| D            | 6            | 0.0674624492 |\n",
       "| D            | 7            | 0.0443808274 |\n",
       "| D            | 8            | 0.0957381468 |\n",
       "| D            | 9            | 0.0702902253 |\n",
       "| I            | 1            | 0.0448499143 |\n",
       "| I            | 10           | 0.0005316946 |\n",
       "| I            | 2            | 0.2321289973 |\n",
       "| I            | 3            | 0.0016874843 |\n",
       "| I            | 4            | 0.0006986535 |\n",
       "| I            | 5            | 0.0104833411 |\n",
       "| I            | 6            | 0.3262796962 |\n",
       "| I            | 7            | 0.0700117107 |\n",
       "| I            | 8            | 0.0338521557 |\n",
       "| I            | 9            | 0.2794763524 |\n",
       "| R            | 1            | 0.0947300785 |\n",
       "| R            | 10           | 0.0722065038 |\n",
       "| R            | 2            | 0.0329178352 |\n",
       "| R            | 3            | 0.1997166095 |\n",
       "| R            | 4            | 0.1794472200 |\n",
       "| R            | 5            | 0.1874892377 |\n",
       "| R            | 6            | 0.0862306025 |\n",
       "| R            | 7            | 0.0795439186 |\n",
       "| R            | 8            | 0.0269665450 |\n",
       "| R            | 9            | 0.0407514494 |\n",
       "\n"
      ],
      "text/plain": [
       "   congress109Ideology....party.. cluster mean(possibility)\n",
       "1  D                              1       0.2233027046     \n",
       "2  D                              10      0.0277578581     \n",
       "3  D                              2       0.2790369746     \n",
       "4  D                              3       0.0612143560     \n",
       "5  D                              4       0.0742178412     \n",
       "6  D                              5       0.0565986167     \n",
       "7  D                              6       0.0674624492     \n",
       "8  D                              7       0.0443808274     \n",
       "9  D                              8       0.0957381468     \n",
       "10 D                              9       0.0702902253     \n",
       "11 I                              1       0.0448499143     \n",
       "12 I                              10      0.0005316946     \n",
       "13 I                              2       0.2321289973     \n",
       "14 I                              3       0.0016874843     \n",
       "15 I                              4       0.0006986535     \n",
       "16 I                              5       0.0104833411     \n",
       "17 I                              6       0.3262796962     \n",
       "18 I                              7       0.0700117107     \n",
       "19 I                              8       0.0338521557     \n",
       "20 I                              9       0.2794763524     \n",
       "21 R                              1       0.0947300785     \n",
       "22 R                              10      0.0722065038     \n",
       "23 R                              2       0.0329178352     \n",
       "24 R                              3       0.1997166095     \n",
       "25 R                              4       0.1794472200     \n",
       "26 R                              5       0.1874892377     \n",
       "27 R                              6       0.0862306025     \n",
       "28 R                              7       0.0795439186     \n",
       "29 R                              8       0.0269665450     \n",
       "30 R                              9       0.0407514494     "
      ]
     },
     "metadata": {},
     "output_type": "display_data"
    }
   ],
   "source": [
    "# The table below is the distribution of topic clusters for each party\n",
    "# E.G: Line one indicates the possibility that speech of members from Party D falls into cluster D is 22.33%\n",
    "leg_par_clu"
   ]
  },
  {
   "cell_type": "code",
   "execution_count": 27,
   "metadata": {},
   "outputs": [
    {
     "data": {
      "text/plain": [
       "party\n",
       "  D   I   R \n",
       "242   2 285 "
      ]
     },
     "metadata": {},
     "output_type": "display_data"
    }
   ],
   "source": [
    "# # of observations in each party\n",
    "# Too few observations of level \"I\"\n",
    "table(party)"
   ]
  },
  {
   "cell_type": "code",
   "execution_count": 46,
   "metadata": {},
   "outputs": [],
   "source": [
    "#drop level \"I\"\n",
    "party_p_cluster_drop_i<-party_p_cluster[which(party_p_cluster$congress109Ideology....party..!=\"I\"),]\n",
    "x_topic<-as.matrix(party_p_cluster_drop_i[,-1])\n",
    "y_topic<-as.matrix(party_p_cluster_drop_i[,1])"
   ]
  },
  {
   "cell_type": "code",
   "execution_count": 55,
   "metadata": {},
   "outputs": [],
   "source": [
    "# run a cv lasso model: dependent variable is categorical variable party\n",
    "#                       independent variable is omega matrix(possibility of each observations falling in each of ten clusters)\n",
    "regtopics.cv <- cv.glmnet(x_topic,y_topic, family=\"binomial\")"
   ]
  },
  {
   "cell_type": "code",
   "execution_count": 56,
   "metadata": {},
   "outputs": [],
   "source": [
    "# repeat the process above again, \n",
    "# this time independent variable is the frequency of each phrase occuring in each legislator's remarks\n",
    "p_phrase <- data.frame(cg_std)\n",
    "party_p_phrase<-merge(party,p_phrase,by=\"row.names\")\n",
    "rownames(party_p_phrase)<-party_p_phrase$Row.names\n",
    "party_p_phrase<-party_p_phrase[,-1]\n",
    "party_p_phrase_drop_i<-party_p_phrase[which(party_p_phrase$congress109Ideology....party..!=\"I\"),]\n",
    "x_word <-as.matrix(party_p_phrase_drop_i[,-1])\n",
    "y_word <-as.matrix((party_p_phrase_drop_i[,1]))\n",
    "regwords.cv <- cv.glmnet(x_word,y_word, family=\"binomial\")"
   ]
  },
  {
   "cell_type": "code",
   "execution_count": 57,
   "metadata": {},
   "outputs": [
    {
     "data": {
      "image/png": "[encoded data removed]",
      "text/plain": [
       "plot without title"
      ]
     },
     "metadata": {},
     "output_type": "display_data"
    }
   ],
   "source": [
    "# compare topic regression and phrase regression\n",
    "plot(regtopics.cv)\n",
    "mtext(\"topic regression\", font=2, line=2)"
   ]
  },
  {
   "cell_type": "code",
   "execution_count": 58,
   "metadata": {},
   "outputs": [
    {
     "data": {
      "image/png": "[encoded data removed]",
      "text/plain": [
       "plot without title"
      ]
     },
     "metadata": {},
     "output_type": "display_data"
    }
   ],
   "source": [
    "plot(regwords.cv)\n",
    "mtext(\"phrase regression\", font=2, line=2)"
   ]
  },
  {
   "cell_type": "code",
   "execution_count": 59,
   "metadata": {},
   "outputs": [
    {
     "data": {
      "text/html": [
       "0.536870240908191"
      ],
      "text/latex": [
       "0.536870240908191"
      ],
      "text/markdown": [
       "0.536870240908191"
      ],
      "text/plain": [
       "[1] 0.5368702"
      ]
     },
     "metadata": {},
     "output_type": "display_data"
    },
    {
     "data": {
      "text/html": [
       "0.34073614244779"
      ],
      "text/latex": [
       "0.34073614244779"
      ],
      "text/markdown": [
       "0.34073614244779"
      ],
      "text/plain": [
       "[1] 0.3407361"
      ]
     },
     "metadata": {},
     "output_type": "display_data"
    },
    {
     "data": {
      "text/plain": [
       "\n",
       "Call:  cv.glmnet(x = x_topic, y = y_topic, family = \"binomial\") \n",
       "\n",
       "Measure: Binomial Deviance \n",
       "\n",
       "      Lambda Measure      SE Nonzero\n",
       "min 0.005048  0.6396 0.03161       8\n",
       "1se 0.020379  0.6677 0.02206       8"
      ]
     },
     "metadata": {},
     "output_type": "display_data"
    },
    {
     "data": {
      "text/plain": [
       "\n",
       "Call:  cv.glmnet(x = x_word, y = y_word, family = \"binomial\") \n",
       "\n",
       "Measure: Binomial Deviance \n",
       "\n",
       "     Lambda Measure      SE Nonzero\n",
       "min 0.02138  0.9126 0.08625     163\n",
       "1se 0.04101  0.9902 0.05203      82"
      ]
     },
     "metadata": {},
     "output_type": "display_data"
    }
   ],
   "source": [
    "# max OOS R^2s\n",
    "max(1-regtopics.cv$cvm/regtopics.cv$cvm[1])\n",
    "max(1-regwords.cv$cvm/regwords.cv$cvm[1])\n",
    "regtopics.cv\n",
    "regwords.cv"
   ]
  },
  {
   "cell_type": "markdown",
   "metadata": {},
   "source": [
    "#### Conclusion\n",
    "We observe that the lowest deviance yielded by the phrase regression selected by cross validation is higher than that of topic regression. In addition, out-of-sample R^2 of topic model is 0.5369 higher than R^2 of phrase model which is 0.3407. \n",
    "Both indicate that topic model performs better than phrase model in predicting party membership"
   ]
  }
 ],
 "metadata": {
  "kernelspec": {
   "display_name": "R",
   "language": "R",
   "name": "ir"
  },
  "language_info": {
   "codemirror_mode": "r",
   "file_extension": ".r",
   "mimetype": "text/x-r-source",
   "name": "R",
   "pygments_lexer": "r",
   "version": "3.6.1"
  }
 },
 "nbformat": 4,
 "nbformat_minor": 4
}
